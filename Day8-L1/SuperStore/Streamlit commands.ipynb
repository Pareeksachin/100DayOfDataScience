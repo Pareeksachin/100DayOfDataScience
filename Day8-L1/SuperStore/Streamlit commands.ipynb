{
  "nbformat": 4,
  "nbformat_minor": 0,
  "metadata": {
    "colab": {
      "provenance": []
    },
    "kernelspec": {
      "name": "python3",
      "display_name": "Python 3"
    },
    "language_info": {
      "name": "python"
    }
  },
  "cells": [
    {
      "cell_type": "code",
      "source": [
        "%%writefile superstore.py"
      ],
      "metadata": {
        "colab": {
          "base_uri": "https://localhost:8080/"
        },
        "id": "oawXiGgfaWqn",
        "outputId": "28907e64-92cf-47bc-f313-6fc065109cdd"
      },
      "execution_count": 12,
      "outputs": [
        {
          "output_type": "stream",
          "name": "stdout",
          "text": [
            "Writing superstore.py\n"
          ]
        }
      ]
    },
    {
      "cell_type": "code",
      "source": [
        "! wget -q -O - ipv4.icanhazip.com"
      ],
      "metadata": {
        "colab": {
          "base_uri": "https://localhost:8080/"
        },
        "id": "Dl6b6n7qafMk",
        "outputId": "465b7904-27eb-41d6-a649-57538e713b70"
      },
      "execution_count": 13,
      "outputs": [
        {
          "output_type": "stream",
          "name": "stdout",
          "text": [
            "35.237.106.84\n"
          ]
        }
      ]
    },
    {
      "cell_type": "code",
      "source": [
        "! streamlit run superstore.py & npx localtunnel --port 8501"
      ],
      "metadata": {
        "colab": {
          "base_uri": "https://localhost:8080/"
        },
        "id": "IHNUE_LNa1A9",
        "outputId": "450fae08-9e9a-42fe-a49e-ee33bee36b43"
      },
      "execution_count": null,
      "outputs": [
        {
          "output_type": "stream",
          "name": "stdout",
          "text": [
            "\n",
            "Collecting usage statistics. To deactivate, set browser.gatherUsageStats to False.\n",
            "\u001b[0m\n",
            "\u001b[0m\n",
            "\u001b[34m\u001b[1m  You can now view your Streamlit app in your browser.\u001b[0m\n",
            "\u001b[0m\n",
            "\u001b[34m  Network URL: \u001b[0m\u001b[1mhttp://172.28.0.12:8501\u001b[0m\n",
            "\u001b[34m  External URL: \u001b[0m\u001b[1mhttp://35.237.106.84:8501\u001b[0m\n",
            "\u001b[0m\n",
            "\u001b[K\u001b[?25hnpx: installed 22 in 2.998s\n",
            "your url is: https://two-lands-cross.loca.lt\n",
            "2024-04-02 06:37:18.778 Serialization of dataframe to Arrow table was unsuccessful due to: (\"Expected bytes, got a 'float' object\", 'Conversion failed for column 0 with type object'). Applying automatic fixes for column types to make the dataframe Arrow-compatible.\n",
            "2024-04-02 06:37:24.078 Serialization of dataframe to Arrow table was unsuccessful due to: (\"Expected bytes, got a 'float' object\", 'Conversion failed for column 0 with type object'). Applying automatic fixes for column types to make the dataframe Arrow-compatible.\n",
            "2024-04-02 06:37:27.770 Serialization of dataframe to Arrow table was unsuccessful due to: (\"Expected bytes, got a 'float' object\", 'Conversion failed for column 0 with type object'). Applying automatic fixes for column types to make the dataframe Arrow-compatible.\n",
            "2024-04-02 06:37:31.017 Serialization of dataframe to Arrow table was unsuccessful due to: (\"Expected bytes, got a 'float' object\", 'Conversion failed for column 0 with type object'). Applying automatic fixes for column types to make the dataframe Arrow-compatible.\n",
            "2024-04-02 06:37:35.854 Serialization of dataframe to Arrow table was unsuccessful due to: (\"Expected bytes, got a 'float' object\", 'Conversion failed for column 0 with type object'). Applying automatic fixes for column types to make the dataframe Arrow-compatible.\n",
            "2024-04-02 06:37:48.153 Serialization of dataframe to Arrow table was unsuccessful due to: (\"Expected bytes, got a 'float' object\", 'Conversion failed for column 0 with type object'). Applying automatic fixes for column types to make the dataframe Arrow-compatible.\n",
            "2024-04-02 06:37:53.939 Serialization of dataframe to Arrow table was unsuccessful due to: (\"Expected bytes, got a 'float' object\", 'Conversion failed for column 0 with type object'). Applying automatic fixes for column types to make the dataframe Arrow-compatible.\n",
            "2024-04-02 06:38:45.398 Serialization of dataframe to Arrow table was unsuccessful due to: (\"Expected bytes, got a 'float' object\", 'Conversion failed for column 0 with type object'). Applying automatic fixes for column types to make the dataframe Arrow-compatible.\n"
          ]
        }
      ]
    },
    {
      "cell_type": "code",
      "source": [
        "!pip install streamlit"
      ],
      "metadata": {
        "id": "PxYF0pq3a8pv"
      },
      "execution_count": null,
      "outputs": []
    },
    {
      "cell_type": "code",
      "source": [],
      "metadata": {
        "id": "BKE47fXNgz2u"
      },
      "execution_count": null,
      "outputs": []
    }
  ]
}