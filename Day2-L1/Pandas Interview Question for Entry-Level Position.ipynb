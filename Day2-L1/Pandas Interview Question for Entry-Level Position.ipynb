{
 "cells": [
  {
   "cell_type": "code",
   "execution_count": 1,
   "id": "7a1297a4",
   "metadata": {},
   "outputs": [],
   "source": [
    "import pandas as pd\n",
    "import numpy as np"
   ]
  },
  {
   "cell_type": "markdown",
   "id": "ce440b8f",
   "metadata": {},
   "source": [
    "#### Q1 : Find all unique employee names who works in more than one department"
   ]
  },
  {
   "cell_type": "code",
   "execution_count": 2,
   "id": "3aa1bd61",
   "metadata": {},
   "outputs": [],
   "source": [
    "df = pd.DataFrame({'EmployeeName':['John Doe','John Smith','Alice Johnson','John Doe'],'Department':['Sales','Marketing','Sales','Marketing']})"
   ]
  },
  {
   "cell_type": "code",
   "execution_count": 3,
   "id": "fd243656",
   "metadata": {},
   "outputs": [],
   "source": [
    "df = df.groupby('EmployeeName').size().reset_index(name='count')\n",
    "# Filter the dataframe to only include employees who work in more than one department\n",
    "df = df[df['count'] > 1]"
   ]
  },
  {
   "cell_type": "code",
   "execution_count": 4,
   "id": "c600ee8e",
   "metadata": {},
   "outputs": [
    {
     "name": "stdout",
     "output_type": "stream",
     "text": [
      "['John Doe']\n"
     ]
    }
   ],
   "source": [
    "unique_employee_name = df['EmployeeName'].unique()\n",
    "print(unique_employee_name)"
   ]
  },
  {
   "cell_type": "code",
   "execution_count": 5,
   "id": "83c3a72c",
   "metadata": {},
   "outputs": [
    {
     "name": "stdout",
     "output_type": "stream",
     "text": [
      "['John Doe']\n"
     ]
    }
   ],
   "source": [
    "# 2nd method\n",
    "df_emp = pd.DataFrame({'EmployeeName':['John Doe','John Smith','Alice Johnson','John Doe'],'Department':['Sales','Marketing','Sales','Marketing']})\n",
    "\n",
    "df_emp = df_emp.groupby('EmployeeName')['Department'].nunique()\n",
    "\n",
    "unique_emp = df_emp[df_emp>1].index.tolist()\n",
    "\n",
    "print(unique_emp)"
   ]
  },
  {
   "cell_type": "markdown",
   "id": "ffbc9d66",
   "metadata": {},
   "source": [
    "#### Q2 : Calculate the monthly average sales for each product, Assume sales data is daily\n"
   ]
  },
  {
   "cell_type": "code",
   "execution_count": 6,
   "id": "e65e7686",
   "metadata": {},
   "outputs": [],
   "source": [
    "data = pd.DataFrame({'Date':pd.date_range(start='2023-01-01',end='2023-03-31'),'Product':np.random.choice(['ProductA','ProductB'],90),'Sales':np.random.randint(100,500,90)})"
   ]
  },
  {
   "cell_type": "code",
   "execution_count": 7,
   "id": "81897b6e",
   "metadata": {},
   "outputs": [],
   "source": [
    "data['Month']=data['Date'].dt.month"
   ]
  },
  {
   "cell_type": "code",
   "execution_count": 8,
   "id": "d6184dd3",
   "metadata": {},
   "outputs": [
    {
     "name": "stdout",
     "output_type": "stream",
     "text": [
      "Product   Month\n",
      "ProductA  1        328.357143\n",
      "          2        356.866667\n",
      "          3        324.705882\n",
      "ProductB  1        329.647059\n",
      "          2        237.538462\n",
      "          3        310.071429\n",
      "Name: Sales, dtype: float64\n"
     ]
    }
   ],
   "source": [
    "month_avg_sales = data.groupby(['Product','Month'])['Sales'].mean()\n",
    "print(month_avg_sales)"
   ]
  },
  {
   "cell_type": "markdown",
   "id": "2fd7a1cf",
   "metadata": {},
   "source": [
    "#### Q3 : Identify the top 3 employees with the highest sales in each quarter"
   ]
  },
  {
   "cell_type": "code",
   "execution_count": 9,
   "id": "74f129f5",
   "metadata": {},
   "outputs": [],
   "source": [
    "emp = pd.DataFrame({'Employee':['John', 'Jane', 'Doe', 'Smith', 'Alice'],'Quarter':['Q1', 'Q1', 'Q2', 'Q2', 'Q3'],'Sales': [200, 150, 300, 250, 400]})\n"
   ]
  },
  {
   "cell_type": "code",
   "execution_count": 10,
   "id": "2649132a",
   "metadata": {},
   "outputs": [],
   "source": [
    "additional_data = pd.DataFrame({\n",
    "    'Employee': ['Bob', 'Emily', 'Charlie', 'Ella', 'David'],\n",
    "    'Quarter': ['Q1', 'Q1', 'Q2', 'Q2', 'Q3'],\n",
    "    'Sales': [180, 220, 280, 210, 350]\n",
    "})"
   ]
  },
  {
   "cell_type": "code",
   "execution_count": 11,
   "id": "e281a110",
   "metadata": {},
   "outputs": [],
   "source": [
    "emp = pd.concat([emp,additional_data],ignore_index = True)"
   ]
  },
  {
   "cell_type": "code",
   "execution_count": 12,
   "id": "ee3b2865",
   "metadata": {},
   "outputs": [
    {
     "data": {
      "text/plain": [
       "Quarter\n",
       "Q1    220\n",
       "Q2    300\n",
       "Q3    400\n",
       "Name: Sales, dtype: int64"
      ]
     },
     "execution_count": 12,
     "metadata": {},
     "output_type": "execute_result"
    }
   ],
   "source": [
    "#it will extract top sales from each QTR\n",
    "emp.groupby('Quarter')['Sales'].max()\n"
   ]
  },
  {
   "cell_type": "code",
   "execution_count": 13,
   "id": "143ebeb9",
   "metadata": {},
   "outputs": [
    {
     "name": "stdout",
     "output_type": "stream",
     "text": [
      "  Employee Quarter  Sales\n",
      "0    Emily      Q1    220\n",
      "1     John      Q1    200\n",
      "2      Bob      Q1    180\n",
      "3      Doe      Q2    300\n",
      "4  Charlie      Q2    280\n",
      "5    Smith      Q2    250\n",
      "6    Alice      Q3    400\n",
      "7    David      Q3    350\n"
     ]
    }
   ],
   "source": [
    "emp = emp.groupby('Quarter').apply(lambda x:x.nlargest(3,'Sales')).reset_index(drop=True)\n",
    "print(emp)"
   ]
  },
  {
   "cell_type": "code",
   "execution_count": 14,
   "id": "04d176a5",
   "metadata": {},
   "outputs": [],
   "source": [
    "#2nd method\n",
    "\n",
    "emp_sorted = emp.sort_values(by=['Quarter','Sales'],ascending =[True,False])\n",
    "\n",
    "top_3_emp = emp_sorted.groupby('Quarter').head(3).reset_index(drop=True)"
   ]
  },
  {
   "cell_type": "code",
   "execution_count": 15,
   "id": "f17656f6",
   "metadata": {},
   "outputs": [
    {
     "name": "stdout",
     "output_type": "stream",
     "text": [
      "  Employee Quarter  Sales\n",
      "0    Emily      Q1    220\n",
      "1     John      Q1    200\n",
      "2      Bob      Q1    180\n",
      "3      Doe      Q2    300\n",
      "4  Charlie      Q2    280\n",
      "5    Smith      Q2    250\n",
      "6    Alice      Q3    400\n",
      "7    David      Q3    350\n"
     ]
    }
   ],
   "source": [
    "print(top_3_emp)"
   ]
  },
  {
   "cell_type": "markdown",
   "id": "e0b8ddfd",
   "metadata": {},
   "source": [
    "#### Q4 : Analyze the attendance records to find employees with more than 95% attendance throughout the year"
   ]
  },
  {
   "cell_type": "code",
   "execution_count": 16,
   "id": "f9b3807a",
   "metadata": {},
   "outputs": [
    {
     "name": "stdout",
     "output_type": "stream",
     "text": [
      "  Employee  DaysAttended\n",
      "0     John           365\n",
      "1     Jane           350\n",
      "2      Doe           360\n"
     ]
    }
   ],
   "source": [
    "att_record = pd.DataFrame({'Employee':['John','Jane','Doe','charlie'],'TotalDays':[365,365,365,365],'DaysAttended':[365,350,360,100]})\n",
    "# Selecting rows based on condition\n",
    "top_employee = att_record.loc[att_record['DaysAttended']/att_record['TotalDays']>0.95,['Employee','DaysAttended']]\n",
    "\n",
    "print(top_employee)"
   ]
  },
  {
   "cell_type": "markdown",
   "id": "fe7da35b",
   "metadata": {},
   "source": [
    "#### Q5 : Calculate the monthly customer retention rate based on the transaction logs.\n"
   ]
  },
  {
   "cell_type": "code",
   "execution_count": 17,
   "id": "a6fa1325",
   "metadata": {},
   "outputs": [],
   "source": [
    "customer = pd.DataFrame({'Month':['Jan','Feb','Mar','Jan','Feb','Mar'],'CustomerID':[1,1,1,2,2,3],'TransactionCount':[1,2,1,3,2,1]})"
   ]
  },
  {
   "cell_type": "code",
   "execution_count": 18,
   "id": "4737237a",
   "metadata": {},
   "outputs": [],
   "source": [
    "monthly_customers = customer.groupby('Month')['CustomerID'].nunique()"
   ]
  },
  {
   "cell_type": "code",
   "execution_count": 19,
   "id": "a8d633d5",
   "metadata": {},
   "outputs": [
    {
     "data": {
      "text/plain": [
       "Month\n",
       "Feb    2\n",
       "Jan    2\n",
       "Mar    2\n",
       "Name: CustomerID, dtype: int64"
      ]
     },
     "execution_count": 19,
     "metadata": {},
     "output_type": "execute_result"
    }
   ],
   "source": [
    "monthly_customers"
   ]
  },
  {
   "cell_type": "code",
   "execution_count": 20,
   "id": "c88aab1a",
   "metadata": {},
   "outputs": [],
   "source": [
    "# Calculate the retention rate\n",
    "\n",
    "retention_rate = monthly_customers/monthly_customers.shift(1)"
   ]
  },
  {
   "cell_type": "code",
   "execution_count": 21,
   "id": "85ee39dd",
   "metadata": {},
   "outputs": [
    {
     "name": "stdout",
     "output_type": "stream",
     "text": [
      "Monthly Customer Retention Rate:\n",
      "Month\n",
      "Jan    1.0\n",
      "Mar    1.0\n",
      "Name: CustomerID, dtype: float64\n"
     ]
    }
   ],
   "source": [
    "retention_rate = retention_rate.dropna()\n",
    "\n",
    "print(\"Monthly Customer Retention Rate:\")\n",
    "print(retention_rate)"
   ]
  },
  {
   "cell_type": "code",
   "execution_count": 22,
   "id": "b07967b9",
   "metadata": {},
   "outputs": [
    {
     "data": {
      "text/html": [
       "<div>\n",
       "<style scoped>\n",
       "    .dataframe tbody tr th:only-of-type {\n",
       "        vertical-align: middle;\n",
       "    }\n",
       "\n",
       "    .dataframe tbody tr th {\n",
       "        vertical-align: top;\n",
       "    }\n",
       "\n",
       "    .dataframe thead th {\n",
       "        text-align: right;\n",
       "    }\n",
       "</style>\n",
       "<table border=\"1\" class=\"dataframe\">\n",
       "  <thead>\n",
       "    <tr style=\"text-align: right;\">\n",
       "      <th></th>\n",
       "      <th>Month</th>\n",
       "      <th>CustomerID</th>\n",
       "      <th>TransactionCount</th>\n",
       "    </tr>\n",
       "  </thead>\n",
       "  <tbody>\n",
       "    <tr>\n",
       "      <th>0</th>\n",
       "      <td>Jan</td>\n",
       "      <td>1</td>\n",
       "      <td>1</td>\n",
       "    </tr>\n",
       "    <tr>\n",
       "      <th>1</th>\n",
       "      <td>Feb</td>\n",
       "      <td>1</td>\n",
       "      <td>2</td>\n",
       "    </tr>\n",
       "    <tr>\n",
       "      <th>2</th>\n",
       "      <td>Mar</td>\n",
       "      <td>1</td>\n",
       "      <td>1</td>\n",
       "    </tr>\n",
       "    <tr>\n",
       "      <th>3</th>\n",
       "      <td>Jan</td>\n",
       "      <td>2</td>\n",
       "      <td>3</td>\n",
       "    </tr>\n",
       "    <tr>\n",
       "      <th>4</th>\n",
       "      <td>Feb</td>\n",
       "      <td>2</td>\n",
       "      <td>2</td>\n",
       "    </tr>\n",
       "    <tr>\n",
       "      <th>5</th>\n",
       "      <td>Mar</td>\n",
       "      <td>3</td>\n",
       "      <td>1</td>\n",
       "    </tr>\n",
       "  </tbody>\n",
       "</table>\n",
       "</div>"
      ],
      "text/plain": [
       "  Month  CustomerID  TransactionCount\n",
       "0   Jan           1                 1\n",
       "1   Feb           1                 2\n",
       "2   Mar           1                 1\n",
       "3   Jan           2                 3\n",
       "4   Feb           2                 2\n",
       "5   Mar           3                 1"
      ]
     },
     "execution_count": 22,
     "metadata": {},
     "output_type": "execute_result"
    }
   ],
   "source": [
    "customer"
   ]
  },
  {
   "cell_type": "markdown",
   "id": "8373d9e4",
   "metadata": {},
   "source": [
    "#### Q6 : Determine the average time employees spent on projects, assuming you have start and end dates for each project participation.\n"
   ]
  },
  {
   "cell_type": "code",
   "execution_count": 23,
   "id": "1e525ce3",
   "metadata": {},
   "outputs": [],
   "source": [
    "project=pd.DataFrame({'Employee': ['John', 'Jane', 'Doe'], 'ProjectStart': pd.to_datetime(['2023-01-01', '2023-02-15', '2023-03-01']), 'ProjectEnd': pd.to_datetime(['2023-01-31', '2023-03-15', '2023-04-01'])})\n"
   ]
  },
  {
   "cell_type": "code",
   "execution_count": 24,
   "id": "ed5fccd8",
   "metadata": {},
   "outputs": [
    {
     "name": "stdout",
     "output_type": "stream",
     "text": [
      "29.666666666666668\n"
     ]
    }
   ],
   "source": [
    "project['Duration'] = (project['ProjectEnd']-project['ProjectStart']).dt.days\n",
    "\n",
    "avg_time = project['Duration'].mean()\n",
    "print(avg_time)"
   ]
  },
  {
   "cell_type": "markdown",
   "id": "3c9e21f7",
   "metadata": {},
   "source": [
    "#### Q7 : Compute the month-on-month growth rate in sales for each product, highlighting products with more than 10% growth for consecutive months.\n"
   ]
  },
  {
   "cell_type": "code",
   "execution_count": 25,
   "id": "98c1a8f5",
   "metadata": {},
   "outputs": [],
   "source": [
    "sales = pd.DataFrame({'Month': ['Jan', 'Feb', 'Mar', 'Jan', 'Feb', 'Mar'], 'Product': ['A', 'A', 'A', 'B', 'B', 'B'], 'Sales': [200, 220, 240, 150, 165, 180]})"
   ]
  },
  {
   "cell_type": "code",
   "execution_count": 26,
   "id": "f035a060",
   "metadata": {},
   "outputs": [
    {
     "data": {
      "text/html": [
       "<div>\n",
       "<style scoped>\n",
       "    .dataframe tbody tr th:only-of-type {\n",
       "        vertical-align: middle;\n",
       "    }\n",
       "\n",
       "    .dataframe tbody tr th {\n",
       "        vertical-align: top;\n",
       "    }\n",
       "\n",
       "    .dataframe thead th {\n",
       "        text-align: right;\n",
       "    }\n",
       "</style>\n",
       "<table border=\"1\" class=\"dataframe\">\n",
       "  <thead>\n",
       "    <tr style=\"text-align: right;\">\n",
       "      <th></th>\n",
       "      <th>Month</th>\n",
       "      <th>Product</th>\n",
       "      <th>Sales</th>\n",
       "      <th>Month_number</th>\n",
       "    </tr>\n",
       "  </thead>\n",
       "  <tbody>\n",
       "    <tr>\n",
       "      <th>0</th>\n",
       "      <td>Jan</td>\n",
       "      <td>A</td>\n",
       "      <td>200</td>\n",
       "      <td>1</td>\n",
       "    </tr>\n",
       "    <tr>\n",
       "      <th>1</th>\n",
       "      <td>Feb</td>\n",
       "      <td>A</td>\n",
       "      <td>220</td>\n",
       "      <td>2</td>\n",
       "    </tr>\n",
       "    <tr>\n",
       "      <th>2</th>\n",
       "      <td>Mar</td>\n",
       "      <td>A</td>\n",
       "      <td>240</td>\n",
       "      <td>3</td>\n",
       "    </tr>\n",
       "    <tr>\n",
       "      <th>3</th>\n",
       "      <td>Jan</td>\n",
       "      <td>B</td>\n",
       "      <td>150</td>\n",
       "      <td>1</td>\n",
       "    </tr>\n",
       "    <tr>\n",
       "      <th>4</th>\n",
       "      <td>Feb</td>\n",
       "      <td>B</td>\n",
       "      <td>165</td>\n",
       "      <td>2</td>\n",
       "    </tr>\n",
       "    <tr>\n",
       "      <th>5</th>\n",
       "      <td>Mar</td>\n",
       "      <td>B</td>\n",
       "      <td>180</td>\n",
       "      <td>3</td>\n",
       "    </tr>\n",
       "  </tbody>\n",
       "</table>\n",
       "</div>"
      ],
      "text/plain": [
       "  Month Product  Sales  Month_number\n",
       "0   Jan       A    200             1\n",
       "1   Feb       A    220             2\n",
       "2   Mar       A    240             3\n",
       "3   Jan       B    150             1\n",
       "4   Feb       B    165             2\n",
       "5   Mar       B    180             3"
      ]
     },
     "execution_count": 26,
     "metadata": {},
     "output_type": "execute_result"
    }
   ],
   "source": [
    "#convert months to number\n",
    "\n",
    "month_number = {'Jan':1,'Feb':2,'Mar':3}\n",
    "sales['Month_number'] = sales['Month'].map(month_number)\n",
    "\n",
    "sales"
   ]
  },
  {
   "cell_type": "code",
   "execution_count": 27,
   "id": "f56f0c9c",
   "metadata": {},
   "outputs": [
    {
     "data": {
      "text/html": [
       "<div>\n",
       "<style scoped>\n",
       "    .dataframe tbody tr th:only-of-type {\n",
       "        vertical-align: middle;\n",
       "    }\n",
       "\n",
       "    .dataframe tbody tr th {\n",
       "        vertical-align: top;\n",
       "    }\n",
       "\n",
       "    .dataframe thead th {\n",
       "        text-align: right;\n",
       "    }\n",
       "</style>\n",
       "<table border=\"1\" class=\"dataframe\">\n",
       "  <thead>\n",
       "    <tr style=\"text-align: right;\">\n",
       "      <th></th>\n",
       "      <th>Month</th>\n",
       "      <th>Product</th>\n",
       "      <th>Sales</th>\n",
       "      <th>Month_number</th>\n",
       "    </tr>\n",
       "  </thead>\n",
       "  <tbody>\n",
       "    <tr>\n",
       "      <th>0</th>\n",
       "      <td>Jan</td>\n",
       "      <td>A</td>\n",
       "      <td>200</td>\n",
       "      <td>1</td>\n",
       "    </tr>\n",
       "    <tr>\n",
       "      <th>1</th>\n",
       "      <td>Feb</td>\n",
       "      <td>A</td>\n",
       "      <td>220</td>\n",
       "      <td>2</td>\n",
       "    </tr>\n",
       "    <tr>\n",
       "      <th>2</th>\n",
       "      <td>Mar</td>\n",
       "      <td>A</td>\n",
       "      <td>240</td>\n",
       "      <td>3</td>\n",
       "    </tr>\n",
       "    <tr>\n",
       "      <th>3</th>\n",
       "      <td>Jan</td>\n",
       "      <td>B</td>\n",
       "      <td>150</td>\n",
       "      <td>1</td>\n",
       "    </tr>\n",
       "    <tr>\n",
       "      <th>4</th>\n",
       "      <td>Feb</td>\n",
       "      <td>B</td>\n",
       "      <td>165</td>\n",
       "      <td>2</td>\n",
       "    </tr>\n",
       "    <tr>\n",
       "      <th>5</th>\n",
       "      <td>Mar</td>\n",
       "      <td>B</td>\n",
       "      <td>180</td>\n",
       "      <td>3</td>\n",
       "    </tr>\n",
       "  </tbody>\n",
       "</table>\n",
       "</div>"
      ],
      "text/plain": [
       "  Month Product  Sales  Month_number\n",
       "0   Jan       A    200             1\n",
       "1   Feb       A    220             2\n",
       "2   Mar       A    240             3\n",
       "3   Jan       B    150             1\n",
       "4   Feb       B    165             2\n",
       "5   Mar       B    180             3"
      ]
     },
     "execution_count": 27,
     "metadata": {},
     "output_type": "execute_result"
    }
   ],
   "source": [
    "# Sort dataframe by 'Product' and 'month_number' to ensure sequnetial months for each product\n",
    "\n",
    "sales = sales.sort_values(by=['Product','Month_number'])\n",
    "sales"
   ]
  },
  {
   "cell_type": "code",
   "execution_count": 28,
   "id": "5678ed41",
   "metadata": {},
   "outputs": [
    {
     "data": {
      "text/plain": [
       "0         NaN\n",
       "1    0.100000\n",
       "2    0.090909\n",
       "3         NaN\n",
       "4    0.100000\n",
       "5    0.090909\n",
       "Name: growth_rate, dtype: float64"
      ]
     },
     "execution_count": 28,
     "metadata": {},
     "output_type": "execute_result"
    }
   ],
   "source": [
    "# calculate growth rate \n",
    "sales['growth_rate'] = sales.groupby('Product')['Sales'].pct_change()\n",
    "sales['growth_rate']"
   ]
  },
  {
   "cell_type": "code",
   "execution_count": 29,
   "id": "052a3229",
   "metadata": {},
   "outputs": [
    {
     "name": "stdout",
     "output_type": "stream",
     "text": [
      "Empty DataFrame\n",
      "Columns: [Month, Product, Sales, Month_number, growth_rate]\n",
      "Index: []\n"
     ]
    }
   ],
   "source": [
    "# identify product with more than 10% growth for consective months\n",
    "\n",
    "consecutive_growth = sales[(sales['growth_rate']>0.10) & (sales['growth_rate'].shift(-1)>0.10)]\n",
    "print(consecutive_growth)"
   ]
  },
  {
   "cell_type": "markdown",
   "id": "93fb635e",
   "metadata": {},
   "source": [
    "#### Q8 :Identify the time of day (morning, afternoon, evening) when sales peak for each category of products."
   ]
  },
  {
   "cell_type": "code",
   "execution_count": 30,
   "id": "ba297be4",
   "metadata": {},
   "outputs": [],
   "source": [
    "sales = pd.DataFrame({'Category': ['Electronics', 'Clothing', 'Electronics', 'Clothing'], 'TimeOfDay': ['Morning', 'Afternoon', 'Evening', 'Morning'], 'Sales': [300, 150, 500, 200]})"
   ]
  },
  {
   "cell_type": "code",
   "execution_count": 31,
   "id": "9d1a2fbf",
   "metadata": {},
   "outputs": [
    {
     "data": {
      "text/html": [
       "<div>\n",
       "<style scoped>\n",
       "    .dataframe tbody tr th:only-of-type {\n",
       "        vertical-align: middle;\n",
       "    }\n",
       "\n",
       "    .dataframe tbody tr th {\n",
       "        vertical-align: top;\n",
       "    }\n",
       "\n",
       "    .dataframe thead th {\n",
       "        text-align: right;\n",
       "    }\n",
       "</style>\n",
       "<table border=\"1\" class=\"dataframe\">\n",
       "  <thead>\n",
       "    <tr style=\"text-align: right;\">\n",
       "      <th></th>\n",
       "      <th>Category</th>\n",
       "      <th>TimeOfDay</th>\n",
       "    </tr>\n",
       "  </thead>\n",
       "  <tbody>\n",
       "    <tr>\n",
       "      <th>3</th>\n",
       "      <td>Clothing</td>\n",
       "      <td>Morning</td>\n",
       "    </tr>\n",
       "    <tr>\n",
       "      <th>2</th>\n",
       "      <td>Electronics</td>\n",
       "      <td>Evening</td>\n",
       "    </tr>\n",
       "  </tbody>\n",
       "</table>\n",
       "</div>"
      ],
      "text/plain": [
       "      Category TimeOfDay\n",
       "3     Clothing   Morning\n",
       "2  Electronics   Evening"
      ]
     },
     "execution_count": 31,
     "metadata": {},
     "output_type": "execute_result"
    }
   ],
   "source": [
    "sales_peakTime = sales.loc[sales.groupby('Category')['Sales'].idxmax(),['Category','TimeOfDay']]\n",
    "sales_peakTime\n",
    "\n",
    "#within each group, we find the index of the row with the maximum sales value using idxmax()"
   ]
  },
  {
   "cell_type": "markdown",
   "id": "9a0a1eea",
   "metadata": {},
   "source": [
    "#### Q9. Calculate the profit margin for each product category based on revenue and cost data."
   ]
  },
  {
   "cell_type": "code",
   "execution_count": 32,
   "id": "e6d26d8f",
   "metadata": {},
   "outputs": [],
   "source": [
    "df = pd.DataFrame({'Category': ['Electronics', 'Clothing'],\n",
    "                   'Revenue': [1000, 500],\n",
    "                   'Cost': [700, 300]})\n"
   ]
  },
  {
   "cell_type": "code",
   "execution_count": 33,
   "id": "1adb3556",
   "metadata": {},
   "outputs": [
    {
     "name": "stdout",
     "output_type": "stream",
     "text": [
      "      Category  Revenue  Cost  ProfitMargin\n",
      "0  Electronics     1000   700          30.0\n",
      "1     Clothing      500   300          40.0\n"
     ]
    }
   ],
   "source": [
    "df['ProfitMargin'] = ((df['Revenue'] - df['Cost']) / df['Revenue']) * 100\n",
    "\n",
    "print(df)"
   ]
  },
  {
   "cell_type": "code",
   "execution_count": null,
   "id": "57734311",
   "metadata": {},
   "outputs": [],
   "source": []
  },
  {
   "cell_type": "code",
   "execution_count": null,
   "id": "4c219678",
   "metadata": {},
   "outputs": [],
   "source": []
  }
 ],
 "metadata": {
  "kernelspec": {
   "display_name": "Python 3 (ipykernel)",
   "language": "python",
   "name": "python3"
  },
  "language_info": {
   "codemirror_mode": {
    "name": "ipython",
    "version": 3
   },
   "file_extension": ".py",
   "mimetype": "text/x-python",
   "name": "python",
   "nbconvert_exporter": "python",
   "pygments_lexer": "ipython3",
   "version": "3.10.9"
  }
 },
 "nbformat": 4,
 "nbformat_minor": 5
}
