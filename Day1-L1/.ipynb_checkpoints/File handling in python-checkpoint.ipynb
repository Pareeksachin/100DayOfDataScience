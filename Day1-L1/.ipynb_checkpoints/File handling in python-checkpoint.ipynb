{
 "cells": [
  {
   "cell_type": "code",
   "execution_count": 1,
   "metadata": {},
   "outputs": [],
   "source": [
    "# files in python\n",
    "# Advantages : \n",
    "# 1. storing data in to the file\n",
    "# 2. parmanent storage\n",
    "# 3. update the file data\n",
    "# 4. shared data by various programe\n",
    "# 5. capable to store large amount of data"
   ]
  },
  {
   "cell_type": "code",
   "execution_count": 2,
   "metadata": {},
   "outputs": [],
   "source": [
    "# types of file :\n",
    "#  1. Text file :- stored data in the form of char or string\n",
    "#  2. binary file :- stored data in the form of bytes . exp : images,audio,video"
   ]
  },
  {
   "cell_type": "code",
   "execution_count": 3,
   "metadata": {},
   "outputs": [],
   "source": [
    "# opening a file \n",
    " # file_handler=open(\"file name\",\"open mode\",\"buffering\")"
   ]
  },
  {
   "cell_type": "code",
   "execution_count": 5,
   "metadata": {},
   "outputs": [],
   "source": [
    "# Text files open mode = \n",
    "# r : read data(file pointer at the beginning) ,\n",
    "# w : write data in the file (delete already existing data),\n",
    "# a : open and write in to the file(doesn't delete already existing data),\n",
    "# r+ : read and write data (previous data will not be deleted)\n",
    "# w+ : write and read data (previous data auto delete),\n",
    "# a+ : append and read data (file pointer at the end of the file) it auto create a file and read data and write data if file doesn't exist\n",
    "# x  : to open the filein exclusive mode .the file creation fail if file is allready exist "
   ]
  },
  {
   "cell_type": "code",
   "execution_count": 6,
   "metadata": {},
   "outputs": [],
   "source": [
    "# binary file open mode (wb,rb,ab,w+b,r+b,a+b)"
   ]
  },
  {
   "cell_type": "code",
   "execution_count": null,
   "metadata": {},
   "outputs": [],
   "source": [
    "# a buffer represent a temporary block of memory ,it is optional integer used to set the size of the buffer of the file,\n",
    "# for binary file : buffer =0\n",
    "# for text file : buffer=1 --retrive data from a file one line at a time\n",
    "# example : if buffer=500 then a buffer of 500 bytes size is used via which the data is read or write\n",
    "# default buffer size= 4096-8192 bytes"
   ]
  },
  {
   "cell_type": "code",
   "execution_count": 7,
   "metadata": {},
   "outputs": [
    {
     "name": "stdout",
     "output_type": "stream",
     "text": [
      "Enter any string :sachin pareek is a genius boy\n"
     ]
    }
   ],
   "source": [
    "# a python program to create a file to store individual characters\n",
    "f=open('text.txt','w')\n",
    "str=input(\"Enter any string :\")\n",
    "f.write(str)\n",
    "f.close()"
   ]
  },
  {
   "cell_type": "code",
   "execution_count": 8,
   "metadata": {},
   "outputs": [
    {
     "name": "stdout",
     "output_type": "stream",
     "text": [
      "sachin pareek is a genius boy\n"
     ]
    }
   ],
   "source": [
    "# a python program to read char from a file\n",
    "f=open('text.txt','r')\n",
    "s=f.read()\n",
    "print(s)\n",
    "f.close()"
   ]
  },
  {
   "cell_type": "code",
   "execution_count": 9,
   "metadata": {},
   "outputs": [],
   "source": [
    "# working with text file containing string\n",
    "# -----to store the group of file we have to use the write() method inside the loop\n",
    "# -----to store strings in to the file as long as the user does not type'@' symbol"
   ]
  },
  {
   "cell_type": "code",
   "execution_count": 1,
   "metadata": {},
   "outputs": [
    {
     "name": "stdout",
     "output_type": "stream",
     "text": [
      "Enter text :\n",
      "sachina2\n",
      "sfadfa\n",
      "dfaasdf@\n",
      "@\n"
     ]
    }
   ],
   "source": [
    "# a python program to store a group string into a file\n",
    "f=open('text1.txt','w')\n",
    "print('Enter text :')\n",
    "while str!='@':\n",
    "    str=input()\n",
    "    if(str!='@'):\n",
    "        f.write(str+\"\\n\")\n",
    "f.close()"
   ]
  },
  {
   "cell_type": "code",
   "execution_count": 3,
   "metadata": {},
   "outputs": [
    {
     "name": "stdout",
     "output_type": "stream",
     "text": [
      "Enter text\n",
      "sachina2\n",
      "sfadfa\n",
      "dfaasdf@\n",
      "\n"
     ]
    }
   ],
   "source": [
    "\n",
    "# readlines() : reaad all the lines of the string\n",
    "# a python program to store a group string into a file\n",
    "f=open('text1.txt','r')\n",
    "print('Enter text')\n",
    "content=f.read()\n",
    "print(content)\n",
    "f.close()"
   ]
  },
  {
   "cell_type": "code",
   "execution_count": 5,
   "metadata": {},
   "outputs": [
    {
     "name": "stdout",
     "output_type": "stream",
     "text": [
      "Enter text\n",
      "['sachina2\\n', 'sfadfa\\n', 'dfaasdf@\\n']\n"
     ]
    }
   ],
   "source": [
    "\n",
    "# readlines() : reaad all the lines of the string and return a list of string\n",
    "# a python program to store a group string into a file\n",
    "f=open('text1.txt','r')\n",
    "print('Enter text')\n",
    "content=f.readlines()\n",
    "print(content)\n",
    "f.close()"
   ]
  },
  {
   "cell_type": "code",
   "execution_count": 6,
   "metadata": {},
   "outputs": [
    {
     "name": "stdout",
     "output_type": "stream",
     "text": [
      "Enter text\n",
      "['sachina2', 'sfadfa', 'dfaasdf@']\n"
     ]
    }
   ],
   "source": [
    "f=open('text1.txt','r')\n",
    "print('Enter text')\n",
    "content=f.read().splitlines()\n",
    "print(content)\n",
    "f.close()"
   ]
  },
  {
   "cell_type": "code",
   "execution_count": null,
   "metadata": {},
   "outputs": [],
   "source": [
    "# seek(offset,fromwhere) :- used to place the file holder to the position\n",
    "# offset : how many bytes to move\n",
    "# fromwhere : from which postion to move. example : fromwhere=0(beginning),fromwhere=1 (current postion in the file),2(endingofthe file)\n",
    "#seek(0,0) : start reading from beginning\n"
   ]
  },
  {
   "cell_type": "code",
   "execution_count": 1,
   "metadata": {},
   "outputs": [
    {
     "name": "stdout",
     "output_type": "stream",
     "text": [
      "enter text:\n",
      "lfadfa\n",
      "fandofa\n",
      "ffewnf\n",
      "@\n",
      "the file contents are:\n",
      "sachina2\n",
      "sfadfa\n",
      "dfaasdf@\n",
      "lfadfa\n",
      "fandofa\n",
      "ffewnf\n",
      "\n"
     ]
    }
   ],
   "source": [
    "# A python program to append data to an existing file and then displaying the entire file\n",
    "f=open('text1.txt','a+')\n",
    "print(\"enter text:\")\n",
    "while str!='@':\n",
    "    str=input()\n",
    "    if (str!='@'):\n",
    "        f.write(str+'\\n')\n",
    "f.seek(0,0)\n",
    "print(\"the file contents are:\")\n",
    "content=f.read()\n",
    "print(content)\n",
    "f.close()"
   ]
  },
  {
   "cell_type": "code",
   "execution_count": 3,
   "metadata": {},
   "outputs": [
    {
     "name": "stdout",
     "output_type": "stream",
     "text": [
      "Enter your file name :text1.txt\n",
      "file content :\n",
      "sachina2\n",
      "sfadfa\n",
      "dfaasdf@\n",
      "lfadfa\n",
      "fandofa\n",
      "ffewnf\n",
      "\n"
     ]
    }
   ],
   "source": [
    "# knowing whether the file exist or not\n",
    "# A pyhton program to know wheather a file exist or not\n",
    "# operationg sys has a dub module by the name 'path' that contains a method isfile()\n",
    "import os\n",
    "fname=input(\"Enter your file name :\")\n",
    "if os.path.isfile(fname):\n",
    "    f=open(fname,'r')\n",
    "else:\n",
    "    sys.exit()\n",
    "print(\"file content :\")\n",
    "content=f.read()\n",
    "print(content)\n",
    "f.close()"
   ]
  },
  {
   "cell_type": "code",
   "execution_count": null,
   "metadata": {},
   "outputs": [],
   "source": [
    "# to count the number of lines in a file we have to use for loop \n",
    "#----- like: for line in f: print(line)\n",
    "# each llines contains some words then we have to split the line whereever there are spaces, using line.split()\n",
    "# -----like : for line in f : print(line) \n",
    "#              words=line.split() \"words is a list that contains all words in a line\"\n",
    "#              print(words)\n",
    "# to find out number of words in a line we can simply use len() on words like : len(words)\n",
    "# to find the number of charachter in aline we can use len(line)\n",
    " '''for line in f:\n",
    "         print(line)\n",
    "         words=line.split()\n",
    "         print(words)\n",
    "         cl+=1\n",
    "         cw+=len(words)\n",
    "         cc+=len(line)'''"
   ]
  },
  {
   "cell_type": "code",
   "execution_count": 12,
   "metadata": {},
   "outputs": [
    {
     "name": "stdout",
     "output_type": "stream",
     "text": [
      "Enter your file name: text1.txt\n",
      "number of lines : 6\n",
      "number of words : 47\n",
      "number of character: 6\n"
     ]
    }
   ],
   "source": [
    "# A python program to count number of lines ,words ,character\n",
    "import os\n",
    "fname=input(\"Enter your file name: \")\n",
    "if os.path.isfile(fname):\n",
    "    f=open(fname,'r')\n",
    "else:\n",
    "    sys.exit()\n",
    "cl=0\n",
    "cc=0\n",
    "cw=0\n",
    "for line in f:\n",
    "    cl=cl+1\n",
    "    words=line.split()\n",
    "    cw=cw+len(line)\n",
    "    cc=cc+len(words)\n",
    "print(\"number of lines :\",cl)\n",
    "print(\"number of words :\",cw)\n",
    "print(\"number of character:\",cc)\n",
    "f.close()    \n",
    "    "
   ]
  },
  {
   "cell_type": "code",
   "execution_count": 19,
   "metadata": {},
   "outputs": [],
   "source": [
    "# working with binaary file\n",
    "# write a program to copy an image file in to another binary file\n",
    "f1=open('C:\\\\Users\\\\sachi\\\\Downloads\\\\sachin.jpg','rb')\n",
    "f2=open('C:\\\\Users\\\\sachi\\\\Downloads\\\\sachin99.jpg','wb')\n",
    "bytes=f1.read()\n",
    "f2.write(bytes)\n",
    "f1.close()\n",
    "f2.close()\n",
    "# this will copy at the location C:\\Users\\sachi\\Downloads"
   ]
  },
  {
   "cell_type": "code",
   "execution_count": 22,
   "metadata": {},
   "outputs": [
    {
     "name": "stdout",
     "output_type": "stream",
     "text": [
      "sachina2\n",
      "\n",
      "sfadfa\n",
      "\n",
      "dfaasdf@\n",
      "\n",
      "lfadfa\n",
      "\n",
      "fandofa\n",
      "\n",
      "ffewnf\n",
      "\n"
     ]
    }
   ],
   "source": [
    "# working with with statement\n",
    "# program to open a file using with and read the data in to the file\n",
    "with open(\"text1.txt\",'r') as f:\n",
    "    for line in f:\n",
    "        print(line)\n",
    "        # no need to close a file"
   ]
  },
  {
   "cell_type": "code",
   "execution_count": 23,
   "metadata": {},
   "outputs": [],
   "source": [
    "# pickle in pyhton : to store the more data in structured form\n",
    "# pickle is process converting a class object in to byte stream so that it can be stored in to a text file .this is also called serialization\n",
    "# picking is done using the dump() method of 'pickle' module as : pickle.dump(object,file)\n",
    "# the preceding statement stores the object in to the binary file,once the oobject are stored in to a file ,we can read it at any time\n",
    "#---- unpickle is process whereby a byte stream is converted in to a class object,it means ,unpickling represents raading the class obj from the file.\n",
    "# -----unpickling is done using load() like as : object=pickle.load(file)"
   ]
  },
  {
   "cell_type": "code",
   "execution_count": 24,
   "metadata": {},
   "outputs": [],
   "source": [
    "# the load method reads an objet from binary file and and returns in to an obj"
   ]
  },
  {
   "cell_type": "code",
   "execution_count": 26,
   "metadata": {},
   "outputs": [],
   "source": [
    "class Emp:\n",
    "    def __init__(self,id,name,salary):\n",
    "        self.id=id\n",
    "        self.name=name\n",
    "        self.salary=salary\n",
    "    def display(self):\n",
    "        print(\"{:5d} {:20s} {:10.2f}\".format(self.id,self.name,self.salary))\n"
   ]
  },
  {
   "cell_type": "code",
   "execution_count": 32,
   "metadata": {},
   "outputs": [
    {
     "name": "stdout",
     "output_type": "stream",
     "text": [
      "how many employee?2\n",
      "enter id:2342\n",
      "Enter name:ssfdf\n",
      "Enter salary :22342\n"
     ]
    },
    {
     "ename": "TypeError",
     "evalue": "write() argument must be str, not bytes",
     "output_type": "error",
     "traceback": [
      "\u001b[1;31m---------------------------------------------------------------------------\u001b[0m",
      "\u001b[1;31mTypeError\u001b[0m                                 Traceback (most recent call last)",
      "\u001b[1;32m<ipython-input-32-d25c88d05b97>\u001b[0m in \u001b[0;36m<module>\u001b[1;34m\u001b[0m\n\u001b[0;32m      8\u001b[0m     \u001b[0msalary\u001b[0m\u001b[1;33m=\u001b[0m\u001b[0mfloat\u001b[0m\u001b[1;33m(\u001b[0m\u001b[0minput\u001b[0m\u001b[1;33m(\u001b[0m\u001b[1;34m\"Enter salary :\"\u001b[0m\u001b[1;33m)\u001b[0m\u001b[1;33m)\u001b[0m\u001b[1;33m\u001b[0m\u001b[1;33m\u001b[0m\u001b[0m\n\u001b[0;32m      9\u001b[0m     \u001b[0me\u001b[0m\u001b[1;33m=\u001b[0m\u001b[0mEmp\u001b[0m\u001b[1;33m(\u001b[0m\u001b[0mid\u001b[0m\u001b[1;33m,\u001b[0m\u001b[0mname\u001b[0m\u001b[1;33m,\u001b[0m\u001b[0msalary\u001b[0m\u001b[1;33m)\u001b[0m\u001b[1;33m\u001b[0m\u001b[1;33m\u001b[0m\u001b[0m\n\u001b[1;32m---> 10\u001b[1;33m     \u001b[0mpickle\u001b[0m\u001b[1;33m.\u001b[0m\u001b[0mdump\u001b[0m\u001b[1;33m(\u001b[0m\u001b[0me\u001b[0m\u001b[1;33m,\u001b[0m\u001b[0mf\u001b[0m\u001b[1;33m)\u001b[0m \u001b[1;31m# store the object e in to the file f\u001b[0m\u001b[1;33m\u001b[0m\u001b[1;33m\u001b[0m\u001b[0m\n\u001b[0m\u001b[0;32m     11\u001b[0m \u001b[0mf\u001b[0m\u001b[1;33m.\u001b[0m\u001b[0mclose\u001b[0m\u001b[1;33m(\u001b[0m\u001b[1;33m)\u001b[0m\u001b[1;33m\u001b[0m\u001b[1;33m\u001b[0m\u001b[0m\n",
      "\u001b[1;31mTypeError\u001b[0m: write() argument must be str, not bytes"
     ]
    }
   ],
   "source": [
    "# a pyhton program to pickle emp class obj\n",
    "import pickle\n",
    "f=open('emp.dat','w')\n",
    "n=int(input(\"how many employee?\"))\n",
    "for i in range(n):\n",
    "    id=int(input(\"enter id:\"))\n",
    "    name=input(\"Enter name:\")\n",
    "    salary=float(input(\"Enter salary :\"))\n",
    "    e=Emp(id,name,salary)\n",
    "    pickle.dump(e,f) # store the object e in to the file f\n",
    "f.close()"
   ]
  },
  {
   "cell_type": "code",
   "execution_count": null,
   "metadata": {},
   "outputs": [],
   "source": [
    "# the seek() and tell() method\n",
    "\n"
   ]
  },
  {
   "cell_type": "code",
   "execution_count": 33,
   "metadata": {},
   "outputs": [],
   "source": [
    "# seek(offset,fromwhere) :- used to place the file holder to the position\n",
    "# offset : how many bytes to move\n",
    "# fromwhere : from which postion to move. example : fromwhere=0(beginning),fromwhere=1 (current postion in the file),2(endingofthe file)\n",
    "#seek(0,0) : start reading from beginning"
   ]
  },
  {
   "cell_type": "code",
   "execution_count": 34,
   "metadata": {},
   "outputs": [],
   "source": [
    "# tell() method :-to know the position of the file pointer ,it return the current position of the file pointer from the beginning of the file"
   ]
  },
  {
   "cell_type": "code",
   "execution_count": 42,
   "metadata": {},
   "outputs": [
    {
     "name": "stdout",
     "output_type": "stream",
     "text": [
      "b'zin'\n",
      "6\n",
      "b'e'\n",
      "48\n"
     ]
    }
   ],
   "source": [
    "with open('text1.txt','r+b') as f:\n",
    "    f.write(b\"Amezing Python\")\n",
    "    f.seek(3)\n",
    "    print(f.read(3))\n",
    "    print(f.tell())\n",
    "    f.seek(-6,2)\n",
    "    print(f.read(1))\n",
    "    print(f.tell())\n",
    "    "
   ]
  },
  {
   "cell_type": "code",
   "execution_count": 43,
   "metadata": {},
   "outputs": [],
   "source": [
    "# encode() : to convert a string variable in to binary format\n",
    "# decode() : opposite\n"
   ]
  },
  {
   "cell_type": "code",
   "execution_count": 47,
   "metadata": {},
   "outputs": [],
   "source": [
    "# short program to understand the concept of encode() or decode()\n",
    "str=\"sachin\"\n",
    "with open('text2.txt','wb') as f:\n",
    "    f.write(str.encode())\n",
    "\n"
   ]
  },
  {
   "cell_type": "code",
   "execution_count": 48,
   "metadata": {},
   "outputs": [
    {
     "name": "stdout",
     "output_type": "stream",
     "text": [
      "b'sachin'\n"
     ]
    }
   ],
   "source": [
    "with open('text2.txt','rb') as f:\n",
    "    content=f.read()\n",
    "    print(content)\n",
    "    "
   ]
  },
  {
   "cell_type": "code",
   "execution_count": null,
   "metadata": {},
   "outputs": [],
   "source": []
  }
 ],
 "metadata": {
  "kernelspec": {
   "display_name": "Python 3 (ipykernel)",
   "language": "python",
   "name": "python3"
  },
  "language_info": {
   "codemirror_mode": {
    "name": "ipython",
    "version": 3
   },
   "file_extension": ".py",
   "mimetype": "text/x-python",
   "name": "python",
   "nbconvert_exporter": "python",
   "pygments_lexer": "ipython3",
   "version": "3.11.3"
  }
 },
 "nbformat": 4,
 "nbformat_minor": 2
}
