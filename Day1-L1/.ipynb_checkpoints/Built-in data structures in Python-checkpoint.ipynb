{
 "cells": [
  {
   "cell_type": "markdown",
   "id": "7d16103a",
   "metadata": {},
   "source": [
    "# List"
   ]
  },
  {
   "cell_type": "markdown",
   "id": "22ef89a9",
   "metadata": {},
   "source": [
    "A list is a versatile and ordered collection of items in Python. Lists are defined using square brackets [] and can contain elements of different data types\n",
    "\n",
    "\n",
    "Properties of Lists\n",
    "\n",
    "Ordered: Elements in a list are ordered and can be accessed by index.\n",
    "\n",
    "Mutable: You can modify, add, and remove elements from a list.\n",
    "\n",
    "Allows Duplicates: A list can contain duplicate elements."
   ]
  },
  {
   "cell_type": "code",
   "execution_count": 1,
   "id": "dcdc896e",
   "metadata": {},
   "outputs": [],
   "source": [
    "#list can store different type of element\n",
    "#lists are more versetile\n",
    "#1.indexing=it represent accessing element by their position number in the list\n",
    "#2.slicing=it represent extracting a piece of the list by mentioning starting and ending of the position number"
   ]
  },
  {
   "cell_type": "code",
   "execution_count": 2,
   "id": "ac544fa1",
   "metadata": {},
   "outputs": [
    {
     "name": "stdout",
     "output_type": "stream",
     "text": [
      "[0, 2, 4, 6, 8]\n"
     ]
    }
   ],
   "source": [
    "lst = list(range(0,10,2))\n",
    "print(lst)"
   ]
  },
  {
   "cell_type": "code",
   "execution_count": 3,
   "id": "18f1e117",
   "metadata": {},
   "outputs": [
    {
     "name": "stdout",
     "output_type": "stream",
     "text": [
      "[1, 2, 3, 4, 5, 6, 7, 8, 9]\n",
      "[1, 2, 3, 4, 5, 6, 7, 8, 9, 15]\n",
      "[1, 2, 3, 12, 5, 6, 7, 8, 9, 15]\n"
     ]
    }
   ],
   "source": [
    "# Updating and appending a element\n",
    "lst=list(range(1,10))\n",
    "print(lst)\n",
    "lst.append(15)\n",
    "print(lst)\n",
    "lst[3]=12\n",
    "print(lst)"
   ]
  },
  {
   "cell_type": "code",
   "execution_count": 4,
   "id": "a5e1f39f",
   "metadata": {},
   "outputs": [
    {
     "name": "stdout",
     "output_type": "stream",
     "text": [
      "[1, 2, 12, 5, 6, 7, 8, 9, 15]\n",
      "[1, 2, 5, 6, 7, 8, 9, 15]\n"
     ]
    }
   ],
   "source": [
    "# Del an element\n",
    "del lst[2] # delete element through index\n",
    "print(lst)\n",
    "lst.remove(12) # delete element by value\n",
    "print(lst)"
   ]
  },
  {
   "cell_type": "code",
   "execution_count": 5,
   "id": "b84fac75",
   "metadata": {},
   "outputs": [
    {
     "name": "stdout",
     "output_type": "stream",
     "text": [
      "[15, 9, 8, 7, 6, 5, 2, 1]\n"
     ]
    }
   ],
   "source": [
    "# Reverse a list \n",
    "lst.reverse()\n",
    "print(lst)"
   ]
  },
  {
   "cell_type": "code",
   "execution_count": 6,
   "id": "82946534",
   "metadata": {},
   "outputs": [
    {
     "name": "stdout",
     "output_type": "stream",
     "text": [
      "Opportunity\n",
      "the\n",
      "is\n",
      "Information\n"
     ]
    }
   ],
   "source": [
    "# reverse list with help of loop\n",
    "lst = [\"Information\",\"is\",\"the\",\"Opportunity\"]\n",
    "for i in range(-1,-5,-1):\n",
    "    print(lst[i])"
   ]
  },
  {
   "cell_type": "code",
   "execution_count": 7,
   "id": "525d9e32",
   "metadata": {},
   "outputs": [],
   "source": [
    "#some inbuilt function in list\n",
    "#list.sum()\n",
    "#list.index(x)\n",
    "#list.append(x)\n",
    "#list.insert(i,x)\n",
    "#list.copy()\n",
    "#list.extend(list1)\n",
    "#list.count(x)-----retrun the number of occurence of x in the list\n",
    "#list.remove(x)\n",
    "#list.pop(x)\n",
    "#list.sort()\n",
    "#list.reverse()\n",
    "#list.clear()----delete all elements from the list\n",
    "#for biggest and smallest element 1.max() 2.min()\n",
    "#list.sort(reverse=true)-----sort the list in decending order"
   ]
  },
  {
   "cell_type": "code",
   "execution_count": 8,
   "id": "a901cb27",
   "metadata": {},
   "outputs": [
    {
     "name": "stdout",
     "output_type": "stream",
     "text": [
      "No. of Elements : 3\n",
      "Enter 0 st Element4\n",
      "Enter 1 st Element2\n",
      "Enter 2 st Element1\n",
      "Main list : ['4', '2', '1']\n",
      "['1', '2', '4']\n"
     ]
    }
   ],
   "source": [
    "## Python Program to sort a list using bubble sort technique\n",
    "x = []\n",
    "\n",
    "print(\"No. of Elements : \",end='')\n",
    "n = int(input())\n",
    "for i in range(n):\n",
    "    print(\"Enter \"+ str(i)+\" st Element\",end='')\n",
    "    x.append(input())\n",
    "print(\"Main list :\",x)\n",
    "flag = False\n",
    "for i in range(n-1):\n",
    "    for j in range(0,n-i-1):\n",
    "        if x[j] > x[j+1]:\n",
    "            x[j],x[j+1] = x[j+1],x[j]\n",
    "print(x)\n",
    "        "
   ]
  },
  {
   "cell_type": "code",
   "execution_count": 9,
   "id": "02caaffd",
   "metadata": {},
   "outputs": [
    {
     "name": "stdout",
     "output_type": "stream",
     "text": [
      "1.0\n"
     ]
    }
   ],
   "source": [
    "#just a fomo\n",
    "a=1\n",
    "b=1.0\n",
    "if a>b:\n",
    "    print(a)\n",
    "else:\n",
    "    print(b)"
   ]
  },
  {
   "cell_type": "code",
   "execution_count": 10,
   "id": "115a28e6",
   "metadata": {},
   "outputs": [
    {
     "name": "stdout",
     "output_type": "stream",
     "text": [
      "1.0\n"
     ]
    }
   ],
   "source": [
    "a=1.0\n",
    "b=1\n",
    "print(max(a,b))"
   ]
  },
  {
   "cell_type": "code",
   "execution_count": 11,
   "id": "4fdd980c",
   "metadata": {},
   "outputs": [
    {
     "name": "stdout",
     "output_type": "stream",
     "text": [
      "[0, 1, 4, 9, 16, 25, 36, 49, 64, 81]\n"
     ]
    }
   ],
   "source": [
    "# List Comprehensions: A concise way to create lists. It's a syntactic construct that allows you to\n",
    "  #create a new list by specifying the elements you want to include.\n",
    "squares = [x**2 for x in range(10)]\n",
    "print(squares)"
   ]
  },
  {
   "cell_type": "code",
   "execution_count": 13,
   "id": "e83d3ab3",
   "metadata": {},
   "outputs": [
    {
     "name": "stdout",
     "output_type": "stream",
     "text": [
      "1\n",
      "2\n",
      "3\n",
      "4\n",
      "5\n",
      "Enter a value (or 'exit' to stop): exit\n"
     ]
    }
   ],
   "source": [
    "#Real World use Cases\n",
    "\n",
    "#1. Storing and retreving data\n",
    "temperature_data = [25.5, 28.0, 22.3, 26.8, 30.2]\n",
    "\n",
    "#2. Iterating Over Elements\n",
    "my_list = [1,2,3,4,5]\n",
    "for item in my_list:\n",
    "    print(item)\n",
    "\n",
    "#3. Stacks and Queues : Lists can be used to implement data structures like stacks and queues:\n",
    "\n",
    "# Stack (Last In, First Out)\n",
    "stack = [1, 2, 3]\n",
    "stack.append(4)\n",
    "popped_element = stack.pop()\n",
    "\n",
    "# Queue (First In, First Out)\n",
    "queue = [1, 2, 3]\n",
    "queue.append(4)\n",
    "dequeued_element = queue.pop(0)\n",
    "\n",
    "#4. Dynamic Data Storage\n",
    "user_inputs = []\n",
    "while True:\n",
    "    user_input = input(\"Enter a value (or 'exit' to stop): \")\n",
    "    if user_input.lower() == 'exit':\n",
    "        break\n",
    "    user_inputs.append(user_input)\n",
    "\n"
   ]
  },
  {
   "cell_type": "markdown",
   "id": "b9c4032c",
   "metadata": {},
   "source": [
    "# Set"
   ]
  },
  {
   "cell_type": "markdown",
   "id": "e6b8015f",
   "metadata": {},
   "source": [
    " set is an unordered collection of unique elements. In Python, sets are implemented using the set data type. Sets are useful when you want to store multiple items in a single variable, ensuring that each item is unique. Here's an overview of sets in Python\n",
    " \n",
    "Set Properties : \n",
    "    \n",
    "Uniqueness: Sets cannot contain duplicate elements. \n",
    "\n",
    "Unordered: Elements in a set are not ordered. They don't have indices, so you can't access them by index.\n",
    "\n",
    "Mutable: You can add or remove elements from a set.\n"
   ]
  },
  {
   "cell_type": "code",
   "execution_count": 14,
   "id": "44f2a14f",
   "metadata": {},
   "outputs": [],
   "source": [
    "# Creating Sets\n",
    "\n",
    "# Using curly braces\n",
    "my_set = {1, 2, 3, 4, 5}\n",
    "\n",
    "# Using set() constructor\n",
    "another_set = set([3, 4, 5, 6, 7])\n"
   ]
  },
  {
   "cell_type": "code",
   "execution_count": 15,
   "id": "ba49979d",
   "metadata": {},
   "outputs": [],
   "source": [
    "# Basic Operations\n",
    "# 1. adding elements\n",
    "my_set.add(6)"
   ]
  },
  {
   "cell_type": "code",
   "execution_count": 16,
   "id": "21734c15",
   "metadata": {},
   "outputs": [
    {
     "name": "stdout",
     "output_type": "stream",
     "text": [
      "{1, 2, 3, 4, 5, 6, 7, 8, 9}\n"
     ]
    }
   ],
   "source": [
    "# add multiple elements to the set\n",
    "my_set.update([7,8,9])\n",
    "print(my_set)"
   ]
  },
  {
   "cell_type": "code",
   "execution_count": 17,
   "id": "4588611f",
   "metadata": {},
   "outputs": [],
   "source": [
    "# Removing elements\n",
    "my_set.remove(3)# Removes the specific element\n",
    "my_set.discard(4)# Removes the specific element if present"
   ]
  },
  {
   "cell_type": "code",
   "execution_count": 18,
   "id": "f8683ba8",
   "metadata": {},
   "outputs": [
    {
     "name": "stdout",
     "output_type": "stream",
     "text": [
      "{1, 2, 5, 6, 7, 8, 9}\n"
     ]
    }
   ],
   "source": [
    "print(my_set)"
   ]
  },
  {
   "cell_type": "code",
   "execution_count": 19,
   "id": "c9a35fad",
   "metadata": {},
   "outputs": [
    {
     "data": {
      "text/plain": [
       "1"
      ]
     },
     "execution_count": 19,
     "metadata": {},
     "output_type": "execute_result"
    }
   ],
   "source": [
    "my_set.pop()# Removes and returns an arbitrary element"
   ]
  },
  {
   "cell_type": "code",
   "execution_count": 20,
   "id": "fc434884",
   "metadata": {},
   "outputs": [
    {
     "name": "stdout",
     "output_type": "stream",
     "text": [
      "{2, 5, 6, 7, 8, 9}\n"
     ]
    }
   ],
   "source": [
    "print(my_set)"
   ]
  },
  {
   "cell_type": "code",
   "execution_count": 21,
   "id": "70fa1e77",
   "metadata": {},
   "outputs": [],
   "source": [
    "# set operations : \n",
    "set1 = {1,2,3,4}\n",
    "set2 = {3,4,5,6}\n",
    "union_set = set1.union(set2)  # {1, 2, 3, 4, 5, 6}\n",
    "intersection_set = set1.intersection(set2)  # {3, 4}\n",
    "difference_set = set1.difference(set2)  # {1, 2}"
   ]
  },
  {
   "cell_type": "code",
   "execution_count": 22,
   "id": "68ff2bbc",
   "metadata": {},
   "outputs": [],
   "source": [
    "#symmetric_difference()\n",
    "\n",
    "# Returns a new set with elements that are in either of the sets, but not both.\n",
    "set1 = {1, 2, 3}\n",
    "set2 = {3, 4, 5}\n",
    "symmetric_difference_set = set1.symmetric_difference(set2)\n",
    "\n",
    "# issubset() : Returns True if the set is a subset of another set.\n",
    "set1 = {1, 2}\n",
    "set2 = {1, 2, 3, 4}\n",
    "is_subset = set1.issubset(set2)\n",
    "\n",
    "# issuperset() : Returns True if the set is a superset of another set.\n",
    "set1 = {1, 2, 3, 4}\n",
    "set2 = {1, 2}\n",
    "is_superset = set1.issuperset(set2)\n",
    "\n",
    "# isdisjoint() : Returns True if two sets have no elements in common.\n",
    "set1 = {1, 2, 3}\n",
    "set2 = {4, 5, 6}\n",
    "is_disjoint = set1.isdisjoint(set2)\n"
   ]
  },
  {
   "cell_type": "code",
   "execution_count": 23,
   "id": "3fd85414",
   "metadata": {},
   "outputs": [
    {
     "name": "stdout",
     "output_type": "stream",
     "text": [
      "{1, 2, 4, 5}\n",
      "True\n",
      "True\n",
      "True\n"
     ]
    }
   ],
   "source": [
    "print(symmetric_difference_set)\n",
    "print(is_subset)\n",
    "print(is_superset)\n",
    "print(is_disjoint)"
   ]
  },
  {
   "cell_type": "markdown",
   "id": "10c5090a",
   "metadata": {},
   "source": [
    "\n"
   ]
  },
  {
   "cell_type": "code",
   "execution_count": 25,
   "id": "3c898847",
   "metadata": {},
   "outputs": [],
   "source": [
    "#Real World Use Cases :\n",
    "# 1. Removing Dulicates\n",
    "my_list = [1, 2, 3, 4, 1, 2, 5]\n",
    "unique_elements = set(my_list)\n",
    "# 2. Membership testing :\n",
    "#for example :\n",
    "#    if user_id in registered_users:\n",
    "#          print(\"User already registered.\")\n",
    "#"
   ]
  },
  {
   "cell_type": "markdown",
   "id": "c89e515e",
   "metadata": {},
   "source": [
    "# Tuple"
   ]
  },
  {
   "cell_type": "markdown",
   "id": "00e06640",
   "metadata": {},
   "source": [
    "A tuple is an ordered, immutable collection of elements in Python.\n",
    "Tuples are defined using parentheses () and can contain elements of different data types.\n",
    "\n",
    "Immutable: Once a tuple is created, you cannot change its elements. This makes tuples different from lists.\n",
    "    \n",
    "Ordered: Elements in a tuple are ordered and can be accessed by index."
   ]
  },
  {
   "cell_type": "code",
   "execution_count": 26,
   "id": "a773e57a",
   "metadata": {},
   "outputs": [
    {
     "name": "stdout",
     "output_type": "stream",
     "text": [
      "4\n",
      "3\n",
      "3\n"
     ]
    }
   ],
   "source": [
    "#1. Len() : return the number of elements in a tuple\n",
    "my_tuple = (1, 2, 3, 'apple')\n",
    "length = len(my_tuple)  # length is 4\n",
    "print(length)\n",
    "\n",
    "#2. Count() : return the number of occurrences of a specified element in the tuple\n",
    "my_tuple = (1, 2, 3, 2, 'apple', 2)\n",
    "count_of_2 = my_tuple.count(2)  # count_of_2 is 3\n",
    "print(count_of_2)\n",
    "#3. index() : return the index of the first occurrence of a specificed element in the tuple\n",
    "\n",
    "my_tuple = (1,2,3,'apple')\n",
    "index_of_apple = my_tuple.index('apple')\n",
    "print(index_of_apple)"
   ]
  },
  {
   "cell_type": "code",
   "execution_count": 27,
   "id": "c9689b75",
   "metadata": {},
   "outputs": [
    {
     "name": "stdout",
     "output_type": "stream",
     "text": [
      "(2, 3, 4)\n"
     ]
    }
   ],
   "source": [
    "#Slicing and Indexing :\n",
    "my_tuple = (1, 2, 3, 4, 5)\n",
    "subset = my_tuple[1:4]  # Returns (2, 3, 4)\n",
    "print(subset)"
   ]
  },
  {
   "cell_type": "code",
   "execution_count": 28,
   "id": "0f429e54",
   "metadata": {},
   "outputs": [],
   "source": [
    "# Concatenating Tuples:\n",
    "tuple1 = (1, 2, 3)\n",
    "tuple2 = (4, 5, 6)\n",
    "concatenated_tuple = tuple1 + tuple2  # Results in (1, 2, 3, 4, 5, 6)\n"
   ]
  },
  {
   "cell_type": "code",
   "execution_count": 29,
   "id": "4a4f1ea6",
   "metadata": {},
   "outputs": [
    {
     "name": "stdout",
     "output_type": "stream",
     "text": [
      "Point(x=1, y=2)\n",
      "<class '__main__.Point'>\n"
     ]
    }
   ],
   "source": [
    "# Named Tuples : The collections module provides a namedtuple function that creates tuple subclasses with named fields.\n",
    "  #The collections module provides a namedtuple function that creates tuple subclasses with named fields.\n",
    "\n",
    "from collections import namedtuple\n",
    "Point = namedtuple('Point',['x','y'])\n",
    "p = Point( x = 1, y = 2)\n",
    "print(p)\n",
    "print(Point)"
   ]
  },
  {
   "cell_type": "code",
   "execution_count": 30,
   "id": "ee301907",
   "metadata": {},
   "outputs": [],
   "source": [
    "# Realworld use cases : \n",
    "\n",
    "#1. Multiple Return values from Functions : tuples are often used to return multiple values from a function\n",
    "\n",
    "def get_user_info():\n",
    "    # ... some logic to fetch user information\n",
    "    return ('John', 25, 'john@example.com')\n",
    "\n",
    "user_name, user_age, user_email = get_user_info()\n",
    "\n",
    "#2. Immutable Data storage : When you want to store data that should not be changed, using a tuple can ensure its immutability\n",
    "days_of_week = ('Monday', 'Tuesday', 'Wednesday', 'Thursday', 'Friday', 'Saturday', 'Sunday')\n",
    "\n",
    "#3. Dictionary Keys : Tuples can be used as keys in dictionaries because they are immutable.\n",
    "\n",
    "coordinate_dict = {(1,2):'Point A',(3,4):'Point B'}\n",
    "\n",
    "#4. Unpacking Values : Tuples allow for easy unpacking of values.\n",
    "\n",
    "coordinates = (5,10)\n",
    "x,y = coordinates\n"
   ]
  },
  {
   "cell_type": "markdown",
   "id": "71cf5235",
   "metadata": {},
   "source": [
    "# Dictionary "
   ]
  },
  {
   "cell_type": "markdown",
   "id": "964f8bed",
   "metadata": {},
   "source": [
    "A dictionary in Python is an unordered collection of key-value pairs. Each key must be unique within a dictionary, and it is associated with a specific value. Dictionaries are defined using curly braces {} and consist of comma-separated key-value pairs.\n",
    "\n",
    "\n",
    "Properties of Dictionaries\n",
    "\n",
    "Unordered: \n",
    "Items in a dictionary are not ordered. Python dictionaries are implemented as hash tables for efficient key lookups.\n",
    "\n",
    "Mutable: \n",
    "You can add, update, or remove key-value pairs.\n",
    "\n",
    "Keys must be unique: \n",
    "Each key in a dictionary must be unique."
   ]
  },
  {
   "cell_type": "code",
   "execution_count": 31,
   "id": "da838464",
   "metadata": {},
   "outputs": [],
   "source": [
    "# Creating Dictionaries \n",
    "\n",
    "# Using curly braces\n",
    "my_dict = {'name': 'John', 'age': 25, 'city': 'New York'}\n",
    "\n",
    "# Using the dict() constructor\n",
    "another_dict = dict(name='Alice', age=30, city='London')\n"
   ]
  },
  {
   "cell_type": "code",
   "execution_count": 32,
   "id": "16b36fe4",
   "metadata": {},
   "outputs": [],
   "source": [
    "# Basic Operations\n",
    "\n",
    "#1. Accessing Values\n",
    "name = my_dict['name']\n",
    "age = my_dict.get('age',10)"
   ]
  },
  {
   "cell_type": "code",
   "execution_count": 33,
   "id": "12ba4bf1",
   "metadata": {},
   "outputs": [],
   "source": [
    "#adding and updating Values\n",
    "my_dict['occupation'] = 'Engineer'  # Adding a new key-value pair\n",
    "my_dict['age'] = 26  # Updating the value of an existing key\n"
   ]
  },
  {
   "cell_type": "code",
   "execution_count": 34,
   "id": "a51d87df",
   "metadata": {},
   "outputs": [
    {
     "data": {
      "text/plain": [
       "26"
      ]
     },
     "execution_count": 34,
     "metadata": {},
     "output_type": "execute_result"
    }
   ],
   "source": [
    "# Removing Items\n",
    "del my_dict['city'] # Removing a specific key-value pair\n",
    "my_dict.pop('age') # Removing and returning the value of a specific key value\n",
    "# my_dict.clear() # removing all items in the dictionary"
   ]
  },
  {
   "cell_type": "code",
   "execution_count": 35,
   "id": "e3f7e76b",
   "metadata": {},
   "outputs": [
    {
     "name": "stdout",
     "output_type": "stream",
     "text": [
      "dict_keys(['name', 'occupation'])\n",
      "dict_values(['John', 'Engineer'])\n",
      "dict_items([('name', 'John'), ('occupation', 'Engineer')])\n"
     ]
    }
   ],
   "source": [
    "# Dictionary methods \n",
    "keys = my_dict.keys()  # Returns a view of all keys\n",
    "values = my_dict.values()  # Returns a view of all values\n",
    "items = my_dict.items()  # Returns a view of all key-value pairs\n",
    "print(keys)\n",
    "print(values)\n",
    "print(items)\n",
    "# Update() : \n",
    "another_dict = {'city':'Paris','gender':'Female'}\n",
    "my_dict.update(another_dict)"
   ]
  },
  {
   "cell_type": "code",
   "execution_count": 36,
   "id": "a7891cb8",
   "metadata": {},
   "outputs": [
    {
     "name": "stdout",
     "output_type": "stream",
     "text": [
      "{'name': 'John', 'occupation': 'Engineer', 'city': 'Paris', 'gender': 'Female'}\n"
     ]
    }
   ],
   "source": [
    "print(my_dict)"
   ]
  },
  {
   "cell_type": "code",
   "execution_count": 37,
   "id": "7f902dc9",
   "metadata": {},
   "outputs": [],
   "source": [
    "# Real world use cases of dictionary methods\n",
    "\n",
    "#1. Storing Informations\n",
    "\n",
    "person = {\n",
    "    'name': 'Alice',\n",
    "    'age': 30,\n",
    "    'occupation': 'Software Engineer',\n",
    "    'skills': ['Python', 'JavaScript']\n",
    "}\n",
    "\n",
    "#2. Configuration Settings\n",
    "\n",
    "app_config = {\n",
    "    'debug_mode': True,\n",
    "    'api_key': 'abcdef123456',\n",
    "    'max_results': 50\n",
    "}\n",
    "\n",
    "#3. Counting Occurrences\n",
    "my_text=\"Hungry to learn\"\n",
    "word_count = {}\n",
    "for word in my_text.split():\n",
    "    word_count[word] = word_count.get(word, 0) + 1\n",
    "\n",
    "\n",
    "#4. Mapping Relationships\n",
    "\n",
    "relationship_map = {\n",
    "    'parent': 'child',\n",
    "    'teacher': 'student',\n",
    "    'author': 'book'\n",
    "}\n"
   ]
  },
  {
   "cell_type": "markdown",
   "id": "692cacff",
   "metadata": {},
   "source": [
    "# Bonus"
   ]
  },
  {
   "cell_type": "code",
   "execution_count": 38,
   "id": "70da8fc7",
   "metadata": {},
   "outputs": [
    {
     "name": "stdout",
     "output_type": "stream",
     "text": [
      "[2, 4]\n"
     ]
    }
   ],
   "source": [
    "# Common mistakes in Lists : \n",
    "\n",
    "#1. Modifying a List While Iterating Over It\n",
    "\n",
    "\n",
    "my_list = [1, 2, 3, 4, 5]\n",
    "for item in my_list:\n",
    "    my_list.remove(item)  # This can cause unexpected results\n",
    "print(my_list)\n",
    "#2. Misusing the append() Method Inside a Loop:\n",
    "\n",
    "# Adding elements to a list inside a loop without proper conditions can result in unintentional duplication."
   ]
  },
  {
   "cell_type": "code",
   "execution_count": 39,
   "id": "e2c613ae",
   "metadata": {},
   "outputs": [],
   "source": [
    "# Common mistakes in Set\n",
    "\n",
    "#1. Using Mutable Types as Set Elements:\n",
    "      #Since sets are unordered and mutable, you can't use lists as set elements, but you can use tuples.\n",
    "# Incorrect\n",
    "#my_set = {1, 2, [3, 4]}  # Raises TypeError\n",
    "\n",
    "# Correct\n",
    "my_set = {1, 2, (3, 4)}\n",
    "\n",
    "\n",
    "#2. Misunderstanding add() vs update():\n",
    "      #Using add() to add multiple elements, or using update() for a single element, might lead to confusion.\n",
    "    \n",
    "my_set = {1, 2, 3}\n",
    "\n",
    "# Incorrect\n",
    "# my_set.add([4, 5])  # Raises TypeError\n",
    "\n",
    "# Correct\n",
    "my_set.update([4, 5])  # Adds multiple elements\n"
   ]
  },
  {
   "cell_type": "code",
   "execution_count": 41,
   "id": "46c905bb",
   "metadata": {},
   "outputs": [],
   "source": [
    "#Common Mistakes with Tuples:\n",
    "\n",
    "#1. Misunderstanding Immutability:Some beginners mistakenly believe that immutability prevents any modifications to a tuple. While you can't change the elements in a tuple, you can reassign the variable to a new tuple.\n",
    "my_tuple = (1, 2, 3)\n",
    "# my_tuple[0] = 5  # Raises TypeError\n",
    "# But reassignment is allowed\n",
    "my_tuple = (5, 2, 3)\n",
    "\n",
    "#2. Overlooking the Comma in Single-Element Tuples\n",
    "\n",
    "single_element_tuple = (5,)  # Correct\n",
    "not_a_tuple = (5)           # Incorrect\n",
    "\n"
   ]
  },
  {
   "cell_type": "code",
   "execution_count": 45,
   "id": "ffa95dfb",
   "metadata": {},
   "outputs": [],
   "source": [
    "# Common mistakes in Dictionary\n",
    "\n",
    "#1. Accessing a Key That Doesn't Exist:\n",
    "   # Trying to access a key that is not present in the dictionary without using get() can raise a KeyError.\n",
    "my_dict = {'name': 'John', 'age': 25}\n",
    "#occupation = my_dict['occupation']  # Raises KeyError\n",
    "\n",
    "#2. Changing the Dictionary Size During Iteration:\n",
    "   #Similar to lists, modifying the size of the dictionary while iterating over it can lead to errors.\n",
    "my_dict = {'a': 1, 'b': 2, 'c': 3}\n",
    "#for key in my_dict:\n",
    "#    my_dict.pop(key)  # This can cause unexpected results\n"
   ]
  },
  {
   "cell_type": "markdown",
   "id": "c2de7305",
   "metadata": {},
   "source": [
    "# Some Coding drills"
   ]
  },
  {
   "cell_type": "code",
   "execution_count": 2,
   "id": "14e61e33",
   "metadata": {},
   "outputs": [
    {
     "name": "stdout",
     "output_type": "stream",
     "text": [
      "How many players : 3\n",
      "Enter player's name : sacjom\n",
      "Enter player's run : 32\n",
      "Enter player's name : basant\n",
      "Enter player's run : 31\n",
      "Enter player's name : mujja\n",
      "Enter player's run : 10\n",
      "Enter player name to find out the run : sacjom\n",
      "sacjom 's score is 32\n"
     ]
    }
   ],
   "source": [
    "# a python programe to create a dictionary with cricket player names and scores in match .also retrive runs by entring their name\n",
    "dict={}\n",
    "n=int(input(\"How many players : \"))\n",
    "for i in range(n):\n",
    "    k=input(\"Enter player's name : \")\n",
    "    v=int(input(\"Enter player's run : \"))\n",
    "    dict.update({k:v})\n",
    "    \n",
    "name=input(\"Enter player name to find out the run : \")\n",
    "runs=dict.get(name,0)\n",
    "if runs==0:\n",
    "    print(\"player's name not found\")\n",
    "else:\n",
    "    print(\"{} 's score is {}\".format(name,runs)) "
   ]
  },
  {
   "cell_type": "code",
   "execution_count": 3,
   "id": "d09fce9e",
   "metadata": {},
   "outputs": [
    {
     "name": "stdout",
     "output_type": "stream",
     "text": [
      "r\n",
      "b\n",
      "y\n",
      "w\n",
      "White\n",
      "White\n",
      "White\n",
      "White\n",
      "key=k value=v \n",
      "key=k value=v \n",
      "key=k value=v \n",
      "key=k value=v \n"
     ]
    }
   ],
   "source": [
    "# A python programe to show the usages of for loop to retrive the element of dictionary\n",
    "color={'r':\"Red\",'b':\"Black\",'y':\"Yellow\",'w':\"White\"}\n",
    "for k in color:\n",
    "    print(k)\n",
    "for v in color:\n",
    "    print(color[k])\n",
    "\n",
    "for k,v in color.items():\n",
    "    print(\"key={} value={} \".format('k','v'))\n",
    "    "
   ]
  },
  {
   "cell_type": "code",
   "execution_count": 4,
   "id": "cae51231",
   "metadata": {},
   "outputs": [
    {
     "name": "stdout",
     "output_type": "stream",
     "text": [
      "key g \t its occurence=1 \n",
      "key u \t its occurence=2 \n",
      "key d \t its occurence=2 \n"
     ]
    }
   ],
   "source": [
    "# a python programe to find the number of accurences of each letter in a string using dictionary\n",
    "str='guddu'\n",
    "dict={}\n",
    "for x in str:\n",
    "    dict[x]=dict.get(x,0)+1\n",
    "for k,v in dict.items():\n",
    "    print(\"key {} \\t its occurence={} \".format(k,v))"
   ]
  },
  {
   "cell_type": "raw",
   "id": "ceae10a2",
   "metadata": {},
   "source": [
    "# Some Dictionary revision\n",
    "\n",
    "student_scores = {'Physics': 88, 'Chemistry': 76, 'Biology': 92, 'History': 85, 'Geography': 90}\n",
    "\n",
    "# student_scores will return key \n",
    "# student_scores.items() will return a list of tuples \n",
    "# student_scores.get(Physics,\"not found\") --- if Physics present there it will return the value 88 otherwise it will return not found\n",
    "# del student_scores[\"Physics\"] --- delete a specific key \n",
    "# clear student_scores ---> clear all the values of Dictionary\n",
    "# to sort the dict on behalf of key , values\n",
    "#sort by key\n",
    "for subject in sorted(student_scores,reverse = True):\n",
    "\tprint(subject,student_scores[subject])\n",
    "\n",
    "\n",
    "# sort by values\n",
    "for subject,score in sorted(student_scores.items(),key=lambda item : item[1],reverse=True):\n",
    "\tprint(subject,\":\",score)\n",
    "\t\n",
    "\n",
    "#we can't take list as key in dict  but we can take tuple as a key \n",
    "# Valid dictionary\n",
    "\n",
    "my_dict = {\n",
    "  1: \"Hello\", \n",
    "  (1, 2): \"Hello Hi\", \n",
    "  3: [1, 2, 3]\n",
    "}\n",
    "\n",
    "print(my_dict)\n",
    "\n",
    "# Invalid dictionary\n",
    "# Error: using a list as a key is not allowed\n",
    "\n",
    "my_dict = {\n",
    "  1: \"Hello\", \n",
    "  [1, 2]: \"Hello Hi\", \n",
    "}\n",
    "\n",
    "print(my_dict)\n",
    "\n",
    "# Dictionary keys are immutable data types\n",
    "# to use set as a key , we have to convert it in to frozenset()\n",
    "# create set : 1. curly braces  2. using set construtor \n",
    "# set : unordered collection of unique values , not hashable (bcz it's mutable) \n",
    "first_Set = {1,2,3,4}\n",
    "second_set = set([1,2,3,4,5])# \n",
    "\n",
    "#my_frozenset = frozenset([1, 2, 3]) # mutable,hashable--> assigned a fixed hash value when it is created \n",
    "\n",
    "Python Dictionary Methods\n",
    "\n",
    "pop()\tRemove the item with the specified key.\n",
    "update()\tAdd or change dictionary items.\n",
    "clear()\tRemove all the items from the dictionary.\n",
    "keys()\tReturns all the dictionary's keys.\n",
    "values()\tReturns all the dictionary's values.\n",
    "get()\tReturns the value of the specified key.\n",
    "popitem()\tReturns the last inserted key and value as a tuple.\n",
    "copy()\tReturns a copy of the dictionary."
   ]
  },
  {
   "cell_type": "code",
   "execution_count": null,
   "id": "0f5d2cdb",
   "metadata": {},
   "outputs": [],
   "source": []
  }
 ],
 "metadata": {
  "kernelspec": {
   "display_name": "Python 3 (ipykernel)",
   "language": "python",
   "name": "python3"
  },
  "language_info": {
   "codemirror_mode": {
    "name": "ipython",
    "version": 3
   },
   "file_extension": ".py",
   "mimetype": "text/x-python",
   "name": "python",
   "nbconvert_exporter": "python",
   "pygments_lexer": "ipython3",
   "version": "3.11.3"
  }
 },
 "nbformat": 4,
 "nbformat_minor": 5
}
