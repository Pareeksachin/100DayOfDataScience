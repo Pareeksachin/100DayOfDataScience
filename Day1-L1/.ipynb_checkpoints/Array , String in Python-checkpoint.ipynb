{
 "cells": [
  {
   "cell_type": "markdown",
   "id": "0d94bd89",
   "metadata": {},
   "source": [
    "# Array"
   ]
  },
  {
   "cell_type": "markdown",
   "id": "b41ad458",
   "metadata": {},
   "source": [
    "Properties of the Array Module: \n",
    "    \n",
    "Homogeneous Data:The array module in Python provides a more memory-efficient representation for arrays that store\n",
    "                  homogeneous data, typically numeric values.\n",
    "        \n"
   ]
  },
  {
   "cell_type": "code",
   "execution_count": 2,
   "id": "0ecd9016",
   "metadata": {},
   "outputs": [
    {
     "name": "stdout",
     "output_type": "stream",
     "text": [
      "array('i', [1, 2, 3, 4, 5])\n"
     ]
    }
   ],
   "source": [
    "# Array Creation\n",
    "#array(typecode, iterable)\n",
    "#The typecode specifies the type of elements in the array.\n",
    "\n",
    "from array import array \n",
    "\n",
    "arr = array('i',[1,2,3,4,5]) # i represents the type of the element\n",
    "\n",
    "print(arr)"
   ]
  },
  {
   "cell_type": "code",
   "execution_count": 9,
   "id": "6801a74a",
   "metadata": {},
   "outputs": [
    {
     "name": "stdout",
     "output_type": "stream",
     "text": [
      "array('u', 'abcd')\n"
     ]
    }
   ],
   "source": [
    "char_arr = array('u',['a','b','c','d'])\n",
    "print(char_arr)"
   ]
  },
  {
   "cell_type": "markdown",
   "id": "2be6a242",
   "metadata": {},
   "source": [
    "'b': Signed Char\n",
    "\n",
    "The typecode 'b' represents signed characters, meaning it can store both positive and negative values within the range of a signed 8-bit integer (-128 to 127).\n",
    "'B': Unsigned Char\n",
    "\n",
    "The typecode 'B' represents unsigned characters, meaning it can only store positive values within the range of an unsigned 8-bit integer (0 to 255)."
   ]
  },
  {
   "cell_type": "code",
   "execution_count": 10,
   "id": "93e122b0",
   "metadata": {},
   "outputs": [
    {
     "name": "stdout",
     "output_type": "stream",
     "text": [
      "array('b', [97, 98, 99, 100])\n"
     ]
    }
   ],
   "source": [
    "from array import array\n",
    "\n",
    "char_arr = array('b', [ord('a'), ord('b'), ord('c'), ord('d')])\n",
    "print(char_arr)\n"
   ]
  },
  {
   "cell_type": "markdown",
   "id": "8d8e79c7",
   "metadata": {},
   "source": [
    "I used ord() to get the ASCII value of each character.\n",
    "The typecode 'b' is used to represent signed characters. If you want to use unsigned characters, you can use 'B' instead."
   ]
  },
  {
   "cell_type": "code",
   "execution_count": 13,
   "id": "416a4f24",
   "metadata": {},
   "outputs": [
    {
     "name": "stdout",
     "output_type": "stream",
     "text": [
      "array('i', [1, 2, 3, 4, 5, 6])\n"
     ]
    }
   ],
   "source": [
    "# array Manipulation\n",
    "# append() :\n",
    "numeric_array = array('i',[1,2,3])\n",
    "numeric_array.append(4)\n",
    "#extend() :\n",
    "numeric_array = array('i', [1, 2, 3])\n",
    "numeric_array.extend([4, 5, 6])  # Now, numeric_array is array('i', [1, 2, 3, 4, 5, 6])\n",
    "\n",
    "print(numeric_array)"
   ]
  },
  {
   "cell_type": "code",
   "execution_count": 16,
   "id": "2d3555ce",
   "metadata": {},
   "outputs": [
    {
     "name": "stdout",
     "output_type": "stream",
     "text": [
      "3\n",
      "2\n"
     ]
    }
   ],
   "source": [
    "# inbuilt methods \n",
    "\n",
    "# count() :\n",
    "numeric_array = array('i', [1, 2, 3, 2, 4, 2])\n",
    "count_of_2 = numeric_array.count(2)  # count_of_2 is 3\n",
    "print(count_of_2)\n",
    "\n",
    "#index() : Return the index of the first occurrence of a specified element in the array\n",
    "\n",
    "numeric_array = array('i', [1, 2, 3, 4, 5])\n",
    "index_of_3 = numeric_array.index(3)  # index_of_3 is 2\n",
    "\n",
    "print(index_of_3)"
   ]
  },
  {
   "cell_type": "code",
   "execution_count": 17,
   "id": "74369e61",
   "metadata": {},
   "outputs": [
    {
     "name": "stdout",
     "output_type": "stream",
     "text": [
      "array('i', [1, 2, 3, 4, 4, 5, 6])\n"
     ]
    }
   ],
   "source": [
    "# Array Transformation ---> 'fromlist() and 'tolist() \n",
    "numeric_array = array('i',[1,2,3,4])\n",
    "numeric_array.fromlist([4,5,6])\n",
    "print(numeric_array)\n"
   ]
  },
  {
   "cell_type": "code",
   "execution_count": 18,
   "id": "2f4bba84",
   "metadata": {},
   "outputs": [
    {
     "name": "stdout",
     "output_type": "stream",
     "text": [
      "[1, 2, 3, 4, 4, 5, 6]\n"
     ]
    }
   ],
   "source": [
    "list_representation = numeric_array.tolist()\n",
    "print(list_representation)"
   ]
  },
  {
   "cell_type": "code",
   "execution_count": 19,
   "id": "9cee1bd6",
   "metadata": {},
   "outputs": [],
   "source": [
    "# array slicing and indexing \n",
    "numeric_array = array('i', [1, 2, 3, 4, 5])\n",
    "subset = numeric_array[1:4]  # Returns array('i', [2, 3, 4])\n"
   ]
  },
  {
   "cell_type": "code",
   "execution_count": 26,
   "id": "f2dd6087",
   "metadata": {},
   "outputs": [],
   "source": [
    "# Application and real world use case\n",
    "\n",
    "#1. Numeric Computing :The array module is used for efficient storage and manipulation of numeric data.\n",
    "from array import array\n",
    "temperature_data = array('f', [98.6, 99.2, 97.8, 100.0])  # 'f' represents float type\n",
    "\n",
    "#2. Memory Efficiency : When dealing with large datasets of numeric values, using the array module can be more memory-efficient compared to standard lists.\n",
    "\n",
    "#3. Data serialization :Arrays are suitable for efficiently serializing and deserializing data, especially when dealing with binary data.\n",
    "\n",
    "import pickle \n",
    "my_array = array('i',[1,2,3,4,5])\n",
    "with open('data.bin','wb') as f:\n",
    "    pickle.dump(my_array,f)\n",
    "\n",
    "#Create an Integer Array:\n",
    "\n",
    "#Create an array (my_array) of signed integers ('i') with values [1, 2, 3, 4, 5].\n",
    "   #Serialize and Save to Binary File:\n",
    "\n",
    "#Open a binary file ('data.bin') in write mode ('wb').\n",
    "#Use pickle.dump() to serialize (convert to binary) and save my_array into the binary file.\n"
   ]
  },
  {
   "cell_type": "markdown",
   "id": "5f003248",
   "metadata": {},
   "source": [
    "Serialization and Deserialization:\n",
    "\n",
    "Serialization:\n",
    "\n",
    "Definition: Serialization is the process of converting an object's state (including its data structures, attributes, and internal state) into a format that can be easily stored or transmitted.\n",
    "\n",
    "Purpose: Serialization allows objects to be represented in a format (often a byte stream or a string) that can be saved to a file, sent over a network, or stored in a database.\n",
    "\n",
    "Example: Converting a Python object into JSON, XML, or binary format\n",
    "\n",
    "\n",
    "Deserialization:\n",
    "\n",
    "Definition: Deserialization is the reverse process, where the serialized data is reconstructed into an object that can be used in the program.\n",
    "\n",
    "Purpose: Deserialization is crucial for restoring the state of an object after it has been transmitted or stored, enabling the recreation of the original data structure.\n",
    "\n",
    "Example: Reading JSON data from a file and converting it back into a Python object.\n",
    "\n",
    "\n",
    "Why Serialization and Deserialization are Needed : \n",
    "\n",
    "1. Data Storage\n",
    "2. Data Transmission\n",
    "3. Interoperability\n",
    "4. State Resoration\n",
    "5. Caching and Memoization\n",
    "6. Message Queues\n"
   ]
  },
  {
   "cell_type": "code",
   "execution_count": 25,
   "id": "96562473",
   "metadata": {},
   "outputs": [
    {
     "name": "stdout",
     "output_type": "stream",
     "text": [
      "<memory at 0x00000219F5B5A500>\n"
     ]
    }
   ],
   "source": [
    "# Unique Aspects :\n",
    "memory_view = memoryview(numeric_array)\n",
    "print(memory_view)"
   ]
  },
  {
   "cell_type": "code",
   "execution_count": 22,
   "id": "c6de1b38",
   "metadata": {},
   "outputs": [],
   "source": [
    "# Common Mistakes \n",
    "#1. Appending Non-Iterable:\n",
    "        # Attempting to use append() or extend() with non-iterable data may lead to errors.\n",
    "numeric_array = array('i', [1, 2, 3])\n",
    "#numeric_array.extend(4)  # Raises TypeError\n",
    "\n",
    "#2. Incorrect Typecode : \n",
    "#numeric_array = array('f', [1, 2, 3])  # 'f' represents float type\n"
   ]
  },
  {
   "cell_type": "markdown",
   "id": "0f0e5739",
   "metadata": {},
   "source": [
    "# String"
   ]
  },
  {
   "cell_type": "markdown",
   "id": "0fa0b0be",
   "metadata": {},
   "source": [
    "Properties of Strings: \n",
    "    \n",
    "Immutable: Strings in Python are immutable, meaning once a string is created, you cannot change the characters in it. Any operation that appears to modify a string actually creates a new string.\n",
    "\n",
    "Ordered: Strings are ordered sequences of characters, and each character has a specific position (index) within the string."
   ]
  },
  {
   "cell_type": "code",
   "execution_count": 28,
   "id": "2ba64588",
   "metadata": {},
   "outputs": [],
   "source": [
    "# Inbuilt Functions:\n",
    "# len() : \n",
    "my_string = \"Hello, World!\"\n",
    "length = len(my_string)  # length is 13\n",
    "# str() : convert a non-string data type to a string\n",
    "number = 42\n",
    "string_number = str(number)  # string_number is \"42\"\n",
    "\n",
    "# concatenation : Strings can be concatenated using the + operator.\n",
    "f_name = \"Sachin\"\n",
    "l_name = \"Pareek\"\n",
    "full_name = f_name+\" \"+l_name # full name is \"Sachin Pareek\"\n",
    "\n",
    "#join() : Concatenates ele of an iterable with the list as a seperator\n",
    "words = [\"Sachin\",\"Pareek\"]\n",
    "combined_string = \" \".join(words) # combined \"Sachin Pareek\"\n",
    "\n",
    "#upper() and lower() - converts all char\n",
    "my_string = \"Hello, World!\"\n",
    "upper_case = my_string.upper()  # upper_case is \"HELLO, WORLD!\"\n",
    "lower_case = my_string.lower()  # lower_case is \"hello, world!\"\n",
    "\n",
    "#capitalize() and title() : capitalize the first char of a string or each word in a string\n",
    "my_string = \"hello, world!\"\n",
    "capitalized = my_string.capitalize()  # capitalized is \"Hello, world!\"\n",
    "title_case = my_string.title()  # title_case is \"Hello, World!\"\n",
    "\n",
    "#replace() : Replaces occurrences of a substring with another string.\n",
    "my_string = \"Hello, World!\"\n",
    "new_string = my_string.replace(\"World\", \"Universe\")  # new_string is \"Hello, Universe!\"\n",
    "\n",
    "#startswith() and endswith() : check if a string starts or ends with a specified substring\n",
    "my_string = \"Hello, World!\"\n",
    "starts_with_hello = my_string.startswith(\"Hello\")  # True\n",
    "ends_with_world = my_string.endswith(\"World\")  # True\n",
    "\n",
    "#count() : Counts the occurrences of a substring in the string\n",
    "\n",
    "my_string = \"Hello, World! Hello, Warren Buffet!\"\n",
    "hello_count = my_string.count(\"Hello\")  # hello_count is 2\n",
    "\n",
    "#find() and index() : find the index of the first occurrence of a substring. find() returns -1 if the substring is not found\n",
    "  #while index() raises a 'ValueError'\n",
    "    \n",
    "my_string = \"Hello, World!\"\n",
    "index_of_world = my_string.find(\"World\")  # index_of_world is 7\n",
    "index_of_universe = my_string.find(\"Warren\")  # index_of_universe is -1\n",
    "\n",
    "\n",
    "#split() : split a string into a list of substrings based on a specified delimiter\n",
    "my_string = \"Hello, World!\"\n",
    "word_list = my_string.split(\", \")  # word_list is ['Hello', 'World!']\n",
    "\n"
   ]
  },
  {
   "cell_type": "code",
   "execution_count": null,
   "id": "65c537e3",
   "metadata": {},
   "outputs": [],
   "source": [
    "#f-strings (Formatted String Literals)\n",
    "name = \"Michael Burry\"\n",
    "age = 52\n",
    "formatted_string = f\"My name is {name} and I am {age} years old.\"\n",
    "# output :My name is Michael Burry and I am 52 years old."
   ]
  },
  {
   "cell_type": "code",
   "execution_count": 31,
   "id": "f5720cba",
   "metadata": {},
   "outputs": [],
   "source": [
    "#unicode support :\n",
    "unicode_string = \"你好，世界！\"  # Chinese: Hello, World!\n"
   ]
  },
  {
   "cell_type": "code",
   "execution_count": 30,
   "id": "05ae612b",
   "metadata": {},
   "outputs": [
    {
     "name": "stdout",
     "output_type": "stream",
     "text": [
      "<re.Match object; span=(22, 33), match='123-45-6789'>\n"
     ]
    }
   ],
   "source": [
    "# Application and Real_world Use cases\n",
    "#1. Text Processing : Strings are extensively used for text processing, including parsing, searching, and manipulating textual data.\n",
    "#2. File Handling \n",
    "#3. User input processing\n",
    "#4. Regular Expression : \n",
    "import re\n",
    "pattern = re.compile(r'\\b\\d{3}-\\d{2}-\\d{4}\\b')  # Pattern for matching Social Security Numbers\n",
    "text_data = \"Harry_potter's SSN is 123-45-6789.\"\n",
    "match = pattern.search(text_data)\n",
    "print(match)"
   ]
  },
  {
   "cell_type": "raw",
   "id": "b5599120",
   "metadata": {},
   "source": [
    "# Common mistakes :\n",
    "\n",
    "#1. Strings are mutabel :\n",
    "\n",
    "my_string = \"Hello\"\n",
    "my_string[0] = \"J\"  # Raises TypeError\n",
    "\n",
    "#2. Ignoring Unicode Encoding :\n",
    "my_string = \"你好，世界！\"\n",
    "bytes_representation = my_string.encode('utf-8')\n",
    "\n"
   ]
  },
  {
   "cell_type": "code",
   "execution_count": null,
   "id": "c65cf460",
   "metadata": {},
   "outputs": [],
   "source": []
  }
 ],
 "metadata": {
  "kernelspec": {
   "display_name": "Python 3 (ipykernel)",
   "language": "python",
   "name": "python3"
  },
  "language_info": {
   "codemirror_mode": {
    "name": "ipython",
    "version": 3
   },
   "file_extension": ".py",
   "mimetype": "text/x-python",
   "name": "python",
   "nbconvert_exporter": "python",
   "pygments_lexer": "ipython3",
   "version": "3.11.3"
  }
 },
 "nbformat": 4,
 "nbformat_minor": 5
}
