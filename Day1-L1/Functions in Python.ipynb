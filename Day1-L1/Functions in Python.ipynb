{
 "cells": [
  {
   "cell_type": "markdown",
   "metadata": {},
   "source": [
    "# Functions in Python"
   ]
  },
  {
   "cell_type": "raw",
   "metadata": {},
   "source": [
    "a function is a block of organized, reusable code designed to perform a specific task. Functions help break down a program into modular components, making it easier to understand, maintain, and debug. They promote code reuse and enhance program readability."
   ]
  },
  {
   "cell_type": "markdown",
   "metadata": {},
   "source": [
    "# Types of Functions:"
   ]
  },
  {
   "cell_type": "raw",
   "metadata": {},
   "source": [
    "#1. Built-in function ---> print(),len(),type() etc."
   ]
  },
  {
   "cell_type": "raw",
   "metadata": {},
   "source": [
    "#2. User Defined Functions :\n",
    "    \n",
    "def add_numbers(a, b):\n",
    "    return a + b\n",
    "\n",
    "result = add_numbers(3, 4)\n"
   ]
  },
  {
   "cell_type": "raw",
   "metadata": {},
   "source": [
    "#3.Anonymous Functions (Lambda Functions):\n",
    "\n",
    "syntax : lambda parameters : expression\n",
    "example : lambda x : x**2"
   ]
  },
  {
   "cell_type": "raw",
   "metadata": {},
   "source": [
    "#4. Recursive Functions:\n",
    "A function that calls itself during its execution.\n",
    "Requires a base case to prevent infinite recursion.\n",
    "\n",
    "def factorial(n):\n",
    "    if n==0 or n==1:\n",
    "        return 1\n",
    "    else:\n",
    "        return n*factorial(n-1)\n",
    "\n",
    "print(factorial(5))"
   ]
  },
  {
   "cell_type": "code",
   "execution_count": 2,
   "metadata": {},
   "outputs": [
    {
     "name": "stdout",
     "output_type": "stream",
     "text": [
      "7\n"
     ]
    }
   ],
   "source": [
    "#5. Higher Order Function : Functions that take other functions as arguments or return functions as results.\n",
    "def apply_operation(x,y,operation):\n",
    "    return operation(x,y)\n",
    "\n",
    "def add(a,b):\n",
    "    return a+b\n",
    "\n",
    "result = apply_operation(3,4,add)\n",
    "print(result)"
   ]
  },
  {
   "cell_type": "raw",
   "metadata": {},
   "source": [
    "#6. Built in Higher Order Function( map(),filter(),reduce() )\n",
    "# map():\n",
    "Applies a given function to all the items in an iterable (list, tuple, etc.) and returns an iterator of the results.\n",
    "\n",
    "map(function,iterable,...)\n",
    "\n",
    "#filter():\n",
    "Filters elements of an iterable based on a function's condition.\n",
    "Returns an iterator containing only the elements for which the function returns True.\n",
    "\n",
    "filter(function, iterable)\n",
    "\n",
    "#Reduce():\n",
    "Applies a rolling computation to sequential pairs of values in an iterable.\n",
    "Returns a single aggregated result.\n",
    "Requires importing from the functools module.\n",
    "\n",
    "from functools import reduce\n",
    "reduce(function, iterable, initializer=None)\n"
   ]
  },
  {
   "cell_type": "code",
   "execution_count": 3,
   "metadata": {},
   "outputs": [
    {
     "name": "stdout",
     "output_type": "stream",
     "text": [
      "[1, 4, 9, 16, 25]\n"
     ]
    }
   ],
   "source": [
    "numbers = [1,2,3,4,5]\n",
    "squred = map(lambda x: x**2, numbers)\n",
    "print(list(squred))"
   ]
  },
  {
   "cell_type": "code",
   "execution_count": 4,
   "metadata": {},
   "outputs": [
    {
     "name": "stdout",
     "output_type": "stream",
     "text": [
      "[2, 4, 6, 8, 10]\n"
     ]
    }
   ],
   "source": [
    "numbers = [1, 2, 3, 4, 5, 6, 7, 8, 9, 10]\n",
    "evens = filter(lambda x : x%2==0,numbers)\n",
    "print(list(evens))"
   ]
  },
  {
   "cell_type": "code",
   "execution_count": 5,
   "metadata": {},
   "outputs": [
    {
     "name": "stdout",
     "output_type": "stream",
     "text": [
      "120\n"
     ]
    }
   ],
   "source": [
    "from functools import reduce\n",
    "numbers = [1,2,3,4,5]\n",
    "product= reduce(lambda x,y : x*y,numbers)\n",
    "print(product)"
   ]
  },
  {
   "cell_type": "markdown",
   "metadata": {},
   "source": [
    "# Function Arguments"
   ]
  },
  {
   "cell_type": "code",
   "execution_count": 6,
   "metadata": {},
   "outputs": [
    {
     "name": "stdout",
     "output_type": "stream",
     "text": [
      "Hello, Trump!\n"
     ]
    }
   ],
   "source": [
    "#1. Required Arguments: These are arguments that must be passed to the function in the correct order.\n",
    "def greet(name, greeting):\n",
    "    print(f\"{greeting}, {name}!\")\n",
    "\n",
    "greet(\"Trump\", \"Hello\")\n"
   ]
  },
  {
   "cell_type": "code",
   "execution_count": 7,
   "metadata": {},
   "outputs": [
    {
     "name": "stdout",
     "output_type": "stream",
     "text": [
      "Hi, Trump!\n"
     ]
    }
   ],
   "source": [
    "#2. Keyword Arguments\n",
    "#These are arguments identified by parameter names. They allow you to pass values to a function in any order.\n",
    "\n",
    "def greet(name, greeting):\n",
    "    print(f\"{greeting}, {name}!\")\n",
    "\n",
    "greet(greeting=\"Hi\", name=\"Trump\")\n"
   ]
  },
  {
   "cell_type": "code",
   "execution_count": 8,
   "metadata": {},
   "outputs": [
    {
     "name": "stdout",
     "output_type": "stream",
     "text": [
      "Hello, Sachin!\n"
     ]
    }
   ],
   "source": [
    "#3. Default Arguments :\n",
    "#Parameters can have default values, which are used when the value is not provided during the function call.\n",
    "\n",
    "def greet(name, greeting=\"Hello\"):\n",
    "    print(f\"{greeting}, {name}!\")\n",
    "\n",
    "greet(\"Sachin\")  # Uses default greeting\n"
   ]
  },
  {
   "cell_type": "code",
   "execution_count": 9,
   "metadata": {},
   "outputs": [
    {
     "name": "stdout",
     "output_type": "stream",
     "text": [
      "Positional Arguments: (1, 2, 3)\n",
      "Keyword Arguments: {'name': 'Alice', 'age': 25}\n"
     ]
    }
   ],
   "source": [
    "#4. Variable-Length Arguments\n",
    "#Functions can accept a variable number of arguments using *args (for positional arguments) and **kwargs (for keyword arguments).\n",
    "\n",
    "def print_args(*args, **kwargs):\n",
    "    print(\"Positional Arguments:\", args)\n",
    "    print(\"Keyword Arguments:\", kwargs)\n",
    "\n",
    "print_args(1, 2, 3, name=\"Alice\", age=25)\n"
   ]
  },
  {
   "cell_type": "code",
   "execution_count": 10,
   "metadata": {},
   "outputs": [
    {
     "name": "stdout",
     "output_type": "stream",
     "text": [
      "Something is happening before the function is called\n",
      "Hello!\n",
      "Something is happening after the function is called\n"
     ]
    }
   ],
   "source": [
    "#Decorators : Decorators are functions that modify the behavior of another function. They are applied using the @decorator syntax.\n",
    "\n",
    "\n",
    "def my_decorator(func):\n",
    "    def wrapper():\n",
    "        print(\"Something is happening before the function is called\")\n",
    "        func()\n",
    "        print(\"Something is happening after the function is called\")\n",
    "    return wrapper\n",
    "\n",
    "@my_decorator\n",
    "def say_hello():\n",
    "    print(\"Hello!\")\n",
    "\n",
    "say_hello()"
   ]
  },
  {
   "cell_type": "code",
   "execution_count": 18,
   "metadata": {},
   "outputs": [
    {
     "name": "stdout",
     "output_type": "stream",
     "text": [
      "12\n"
     ]
    }
   ],
   "source": [
    "#another example of decorator\n",
    "def decorator(func):\n",
    "    def inner():\n",
    "        value = func()\n",
    "        return value + 2\n",
    "    return inner\n",
    "\n",
    "@decorator\n",
    "def number():\n",
    "    return 10\n",
    "\n",
    "print(number())\n"
   ]
  },
  {
   "cell_type": "code",
   "execution_count": 19,
   "metadata": {},
   "outputs": [
    {
     "name": "stdout",
     "output_type": "stream",
     "text": [
      "5 6 7 8 9 10 "
     ]
    }
   ],
   "source": [
    "#Generator Functions : Generator functions use the yield statement to produce a sequence of values, allowing for efficient memory usage.\n",
    "\n",
    "\n",
    "def my_generator(x, y):\n",
    "    while x <= y:\n",
    "        yield x\n",
    "        x += 1\n",
    "\n",
    "gen = my_generator(5, 10)\n",
    "for i in gen:\n",
    "    print(i, end=' ')\n",
    "\n"
   ]
  },
  {
   "cell_type": "code",
   "execution_count": null,
   "metadata": {},
   "outputs": [],
   "source": [
    "#another example of generator\n",
    "def countdown(n):\n",
    "    while n > 0:\n",
    "        yield n\n",
    "        n -= 1\n",
    "\n",
    "for i in countdown(5):\n",
    "    print(i, end=\" \")"
   ]
  },
  {
   "cell_type": "code",
   "execution_count": 16,
   "metadata": {},
   "outputs": [
    {
     "name": "stdout",
     "output_type": "stream",
     "text": [
      "Hello Sachin\n",
      "Are you a programmer?\n"
     ]
    }
   ],
   "source": [
    "#Special Variable __name__\n",
    "   #The special variable __name__ is internally created by Python and stores information about whether the program is executed as an individual program or as a module.\n",
    "    \n",
    "def display():\n",
    "    print(\"Hello Sachin\")\n",
    "    if __name__ == \"__main__\":\n",
    "        print(\"Are you a programmer?\")\n",
    "    else:\n",
    "        print(\"Are you a writer?\")\n",
    "\n",
    "display()\n",
    "\n"
   ]
  },
  {
   "cell_type": "code",
   "execution_count": 17,
   "metadata": {},
   "outputs": [
    {
     "name": "stdout",
     "output_type": "stream",
     "text": [
      "Enter basic salary: 25000\n",
      "Basic salary: 25000.0\n",
      "Gross salary: 46250.0\n",
      "Net salary: 36750.0\n"
     ]
    }
   ],
   "source": [
    "#Structured Programming\n",
    "#Structured programming involves dividing a program into several subtasks, each handled by one or more functions.\n",
    "\n",
    "\n",
    "def dearness_allowance(basic):\n",
    "    da = basic * 60 / 100\n",
    "    return da\n",
    "\n",
    "def transportation_allowance(basic):\n",
    "    ta = basic * 15 / 100\n",
    "    return ta\n",
    "\n",
    "def home_rent_allowance(basic):\n",
    "    hra = basic * 10 / 100\n",
    "    return hra\n",
    "\n",
    "def provident_fund(basic):\n",
    "    pf = basic * 20 / 100\n",
    "    return pf\n",
    "\n",
    "def income_tax(basic):\n",
    "    it = basic * 18 / 100\n",
    "    return it\n",
    "\n",
    "basic_salary = float(input(\"Enter basic salary: \"))\n",
    "gross_salary = basic_salary + dearness_allowance(basic_salary) + \\\n",
    "                transportation_allowance(basic_salary) + \\\n",
    "                home_rent_allowance(basic_salary)\n",
    "\n",
    "print(\"Basic salary:\", basic_salary)\n",
    "print(\"Gross salary:\", gross_salary)\n",
    "\n",
    "net_salary = gross_salary - provident_fund(basic_salary) - income_tax(basic_salary)\n",
    "print(\"Net salary:\", net_salary)\n"
   ]
  },
  {
   "cell_type": "code",
   "execution_count": null,
   "metadata": {},
   "outputs": [],
   "source": []
  }
 ],
 "metadata": {
  "kernelspec": {
   "display_name": "Python 3 (ipykernel)",
   "language": "python",
   "name": "python3"
  },
  "language_info": {
   "codemirror_mode": {
    "name": "ipython",
    "version": 3
   },
   "file_extension": ".py",
   "mimetype": "text/x-python",
   "name": "python",
   "nbconvert_exporter": "python",
   "pygments_lexer": "ipython3",
   "version": "3.11.3"
  }
 },
 "nbformat": 4,
 "nbformat_minor": 2
}
