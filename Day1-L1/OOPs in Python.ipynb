{
 "cells": [
  {
   "cell_type": "markdown",
   "id": "6ffcf0e1",
   "metadata": {},
   "source": [
    "# Object Oriented Programming in Python"
   ]
  },
  {
   "cell_type": "raw",
   "id": "76e0773d",
   "metadata": {},
   "source": [
    "\n",
    "Introduction to OOP:\n",
    "    \n",
    "Object-Oriented Programming (OOP) is a paradigm that allows the organization of code in a way that mimics real-world entities, focusing on the concept of \"objects.\" The fundamental idea is to create objects that encapsulate data and methods that operate on that data, promoting code reusability, modularity, and maintainability.\n",
    "\n",
    "Key principles of OOP include:\n",
    "\n",
    "Encapsulation: Bundling data (attributes) and methods that operate on the data within a single unit, i.e., an object.\n",
    "Inheritance: Deriving new classes from existing ones, creating a hierarchy of classes that share properties and behaviors.\n",
    "Polymorphism: Using a single interface to represent different types of objects, allowing for flexibility and extensibility."
   ]
  },
  {
   "cell_type": "markdown",
   "id": "cfdf85ff",
   "metadata": {},
   "source": [
    "### Classes and Objects"
   ]
  },
  {
   "cell_type": "raw",
   "id": "860d213e",
   "metadata": {},
   "source": [
    "Classes:\n",
    "A class is a blueprint or a template for creating objects. It defines the properties (attributes) and behaviors (methods) that objects created from the class will have.\n",
    "\n",
    "Objects:\n",
    "Objects are instances of a class, created using the class as a blueprint. They represent specific entities based on the class definition"
   ]
  },
  {
   "cell_type": "code",
   "execution_count": 8,
   "id": "785a1685",
   "metadata": {},
   "outputs": [
    {
     "name": "stdout",
     "output_type": "stream",
     "text": [
      "Car : Toyota Camry\n",
      "Toyota\n",
      "Accord\n",
      "Car : Honda Accord\n"
     ]
    }
   ],
   "source": [
    "class Car:\n",
    "    def __init__(self,brand,model):\n",
    "        self.brand = brand\n",
    "        self.model = model\n",
    "        \n",
    "    def display_info(self):\n",
    "        print(f\"Car : {self.brand} {self.model}\")\n",
    "\n",
    "    \n",
    "# creating an instance of the car class\n",
    "car1 = Car(\"Toyota\",\"Camry\")\n",
    "car1.display_info()\n",
    "\n",
    "# Creating another instance of the Car class\n",
    "car2 = Car(\"Honda\", \"Accord\")\n",
    "\n",
    "# Accessing object attributes\n",
    "print(car1.brand)  # Output: Toyota\n",
    "print(car2.model)  # Output: Accord\n",
    "\n",
    "# Calling object methods\n",
    "car2.display_info()  # Output: Car: Honda Accord\n"
   ]
  },
  {
   "cell_type": "code",
   "execution_count": 6,
   "id": "d3e4675f",
   "metadata": {},
   "outputs": [],
   "source": [
    "# Reference : The __init__() function in Python is a special method (also known as a constructor) that is automatically called when an instance of a class is created. Its purpose is to initialize the attributes of the object.\n",
    "\n",
    "#The self parameter refers to the instance being created (car1 in this case)."
   ]
  },
  {
   "cell_type": "code",
   "execution_count": 12,
   "id": "ae8df4d8",
   "metadata": {},
   "outputs": [
    {
     "name": "stdout",
     "output_type": "stream",
     "text": [
      "78.5\n"
     ]
    }
   ],
   "source": [
    "#Methods : Methods are dunctions defined within a class that perform actions or operations on the object's data \n",
    "\n",
    "#WAP to calculate the area of a circle\n",
    "\n",
    "class Circle:\n",
    "    def __init__(self,radius):\n",
    "        self.radius = radius\n",
    "        \n",
    "    def calculate_area(self):\n",
    "        return 3.14*self.radius**2\n",
    "    \n",
    "    \n",
    "#creating an instance of the circle class\n",
    "my_circle = Circle(5)\n",
    "\n",
    "# calling a method \n",
    "print(my_circle.calculate_area())\n"
   ]
  },
  {
   "cell_type": "raw",
   "id": "7ee2101d",
   "metadata": {},
   "source": [
    "In Python, constructor overloading is a concept where a class can have multiple constructor methods with different sets of parameters. Unlike some other programming languages, Python doesn't support traditional function/method overloading where multiple functions/methods with the same name but different parameter types can exist.\n",
    "\n",
    "However, constructor overloading is achieved in Python through default parameter values. By providing default values to parameters in the __init__ method, you can create instances of the class with different sets of attributes."
   ]
  },
  {
   "cell_type": "code",
   "execution_count": 13,
   "id": "5adc8c43",
   "metadata": {},
   "outputs": [],
   "source": [
    "#Constructor overloading \n",
    "class Employee:\n",
    "    def __init__(self, name, salary=0):\n",
    "        self.name = name\n",
    "        self.salary = salary\n",
    "\n",
    "# Creating instances with different sets of parameters\n",
    "emp1 = Employee(\"Alice\")       # Using default salary value (0)\n",
    "emp2 = Employee(\"Bob\", 50000)   # Providing a specific salary value\n",
    "\n",
    "#the __init__ method is considered the constructor, and it has two parameters (name and salary).\n",
    "#The salary parameter has a default value of 0, allowing the creation of instances with or without providing a salary value."
   ]
  },
  {
   "cell_type": "raw",
   "id": "f1f60c07",
   "metadata": {},
   "source": [
    "Destructor in Python:\n",
    "In Python, a destructor is a special method called __del__. It is used for performing cleanup operations before an object is destroyed or goes out of scope. The destructor is not commonly used in Python due to the automatic memory management system (garbage collection).\n",
    "\n",
    "class MyClass:\n",
    "    def __del__(self):\n",
    "        print(\"Object destroyed\")\n",
    "\n",
    "# Creating an instance\n",
    "obj = MyClass()\n",
    "\n",
    "# The destructor will be automatically called when 'obj' is no longer in use or when the program exits\n"
   ]
  },
  {
   "cell_type": "markdown",
   "id": "00aab8b9",
   "metadata": {},
   "source": [
    "### Encapsulation "
   ]
  },
  {
   "cell_type": "raw",
   "id": "01fe29bf",
   "metadata": {},
   "source": [
    "#All members in a Python class are public by default.\n",
    "\n",
    "Defination : It describes the idea of wrapping data and the methods that work on data within one unit. This puts restrictions on accessing variables and methods directly and can prevent the accidental modification of data.\n",
    "\n",
    "Properties of Encapsulation:\n",
    "\n",
    "Private Members: Attributes and methods are hidden and cannot be accessed directly from outside the class.\n",
    "Protected Members: Limited access to attributes and methods, mainly within the class and its subclasses.\n",
    "Public Members: Attributes and methods that can be accessed from anywhere."
   ]
  },
  {
   "cell_type": "code",
   "execution_count": 14,
   "id": "264e5f05",
   "metadata": {},
   "outputs": [],
   "source": [
    "# Program for encapsulation "
   ]
  },
  {
   "cell_type": "code",
   "execution_count": null,
   "id": "20967cb4",
   "metadata": {},
   "outputs": [],
   "source": []
  },
  {
   "cell_type": "code",
   "execution_count": 21,
   "id": "bdcfdc65",
   "metadata": {},
   "outputs": [
    {
     "name": "stdout",
     "output_type": "stream",
     "text": [
      "Account Number : 99123\n",
      "Initial Balance : 1000\n",
      "updated balance :  5800\n"
     ]
    }
   ],
   "source": [
    "class BankAccount():\n",
    "    def __init__(self,acc_no,balance):\n",
    "        self._acc_no = acc_no # protected member\n",
    "        self.__balance = balance # private member\n",
    "        \n",
    "    def get_balance(self):\n",
    "        return self.__balance\n",
    "    \n",
    "    #public method to deposit money \n",
    "    def deposit(self,amount):\n",
    "        if amount>0:\n",
    "            self.__balance += amount\n",
    "            \n",
    "    #public method to withdraw money \n",
    "    def withdraw(self,amount):\n",
    "        if 0 < amount <=self.__balance:\n",
    "            self.__balance -= amount\n",
    "            \n",
    "account1 = BankAccount(acc_no = \"99123\",balance = 1000)\n",
    "\n",
    "## accessing protected member\n",
    "print(\"Account Number :\",account1._acc_no)\n",
    "\n",
    "# accessing private method through public methods\n",
    "print(\"Initial Balance :\",account1.get_balance())\n",
    "\n",
    "#depositing money\n",
    "\n",
    "account1.deposit(5000)\n",
    "\n",
    "#withdrawing money\n",
    "account1.withdraw(200)\n",
    "\n",
    "print(\"updated balance : \",account1.get_balance())"
   ]
  },
  {
   "cell_type": "markdown",
   "id": "d4377324",
   "metadata": {},
   "source": [
    "### Inheritance"
   ]
  },
  {
   "cell_type": "raw",
   "id": "ec69c590",
   "metadata": {},
   "source": [
    "Inheritance is a fundamental concept in object-oriented programming (OOP) that allows a class to inherit properties and behaviors from another class. The class that is inherited from is called the base class or parent class, and the class that inherits is called the derived class or child class.\n",
    "\n",
    "Properties of Inheritance:\n",
    "Code Reusability:\n",
    "\n",
    "Inheritance promotes code reuse by allowing the reuse of code from the base class in the derived class.\n",
    "Method Overriding:\n",
    "\n",
    "A derived class can provide a specific implementation for a method that is already defined in its base class. This is known as method overriding.\n",
    "Extensibility:\n",
    "\n",
    "It allows adding new features to an existing class without modifying it.\n",
    "Readability and Organization:\n",
    "\n",
    "Inheritance enhances the readability and organization of code by grouping related classes."
   ]
  },
  {
   "cell_type": "code",
   "execution_count": 22,
   "id": "1b1e2f34",
   "metadata": {},
   "outputs": [
    {
     "name": "stdout",
     "output_type": "stream",
     "text": [
      "Animal Speaks\n",
      "dog Barks\n"
     ]
    }
   ],
   "source": [
    "#Single Inheritance\n",
    "class Animal:\n",
    "    def speak(self):\n",
    "        print(\"Animal Speaks\")\n",
    "        \n",
    "class Dog(Animal):\n",
    "    def bark(self):\n",
    "        print(\"dog Barks\")\n",
    "\n",
    "dog = Dog()\n",
    "dog.speak() ## inherited from Animal\n",
    "dog.bark()"
   ]
  },
  {
   "cell_type": "code",
   "execution_count": 23,
   "id": "41824aa8",
   "metadata": {},
   "outputs": [
    {
     "name": "stdout",
     "output_type": "stream",
     "text": [
      "Father loves gardening\n",
      "Mother loves cooking\n",
      "Child loves playing\n"
     ]
    }
   ],
   "source": [
    "#Multiple Inheritance\n",
    "\n",
    "class Father:\n",
    "    def gardening(self):\n",
    "        print(\"Father loves gardening\")\n",
    "\n",
    "class Mother:\n",
    "    def cooking(self):\n",
    "        print(\"Mother loves cooking\")\n",
    "\n",
    "class Child(Father, Mother):\n",
    "    def play(self):\n",
    "        print(\"Child loves playing\")\n",
    "        \n",
    "        \n",
    "child = Child()\n",
    "child.gardening() \n",
    "child.cooking()\n",
    "child.play()"
   ]
  },
  {
   "cell_type": "code",
   "execution_count": 24,
   "id": "ebdfe800",
   "metadata": {},
   "outputs": [
    {
     "name": "stdout",
     "output_type": "stream",
     "text": [
      "Animal speaks\n",
      "Dog barks\n",
      "Labrador is brown\n"
     ]
    }
   ],
   "source": [
    "#Multilevel Inheritance\n",
    "\n",
    "class Animal:\n",
    "    def speak(self):\n",
    "        print(\"Animal speaks\")\n",
    "\n",
    "class Dog(Animal):\n",
    "    def bark(self):\n",
    "        print(\"Dog barks\")\n",
    "\n",
    "class Labrador(Dog):\n",
    "    def color(self):\n",
    "        print(\"Labrador is brown\")\n",
    "\n",
    "# Example Usage:\n",
    "labrador = Labrador()\n",
    "labrador.speak()  # Inherited from Animal\n",
    "labrador.bark()   # Inherited from Dog\n",
    "labrador.color()  # Specific to Labrador\n",
    "\n"
   ]
  },
  {
   "cell_type": "code",
   "execution_count": 26,
   "id": "f1bbe33f",
   "metadata": {},
   "outputs": [
    {
     "name": "stdout",
     "output_type": "stream",
     "text": [
      "Calculating salary for employee\n",
      "Manager is managing a team\n",
      "Calculating salary for employee\n",
      "Clerk is processing paperwork\n"
     ]
    }
   ],
   "source": [
    "#Hierarchical Inheritance\n",
    "\n",
    "class Employee:\n",
    "    def calculate_salary(self):\n",
    "        print(\"Calculating salary for employee\")\n",
    "\n",
    "class Manager(Employee):\n",
    "    def manage_team(self):\n",
    "        print(\"Manager is managing a team\")\n",
    "\n",
    "class Clerk(Employee):\n",
    "    def process_paperwork(self):\n",
    "        print(\"Clerk is processing paperwork\")\n",
    "        \n",
    "        \n",
    "manager = Manager()\n",
    "manager.calculate_salary()\n",
    "manager.manage_team()\n",
    "\n",
    "clerk = Clerk()\n",
    "clerk.calculate_salary()    # Inherited from Employee\n",
    "clerk.process_paperwork()"
   ]
  },
  {
   "cell_type": "code",
   "execution_count": 27,
   "id": "50fd214b",
   "metadata": {},
   "outputs": [
    {
     "name": "stdout",
     "output_type": "stream",
     "text": [
      "Living being exists\n",
      "Animal speaks\n",
      "Plant performs photosynthesis\n",
      "Hybrid organism performs a hybrid function\n"
     ]
    }
   ],
   "source": [
    "#Hybrid Inheritance\n",
    "\n",
    "class LivingBeing:\n",
    "    def exist(self):\n",
    "        print(\"Living being exists\")\n",
    "\n",
    "class Animal(LivingBeing):\n",
    "    def speak(self):\n",
    "        print(\"Animal speaks\")\n",
    "\n",
    "class Plant(LivingBeing):\n",
    "    def photosynthesize(self):\n",
    "        print(\"Plant performs photosynthesis\")\n",
    "\n",
    "class HybridOrganism(Animal, Plant):\n",
    "    def hybrid_function(self):\n",
    "        print(\"Hybrid organism performs a hybrid function\")\n",
    "        \n",
    "hybrid_organism = HybridOrganism()\n",
    "hybrid_organism.exist()          # Inherited from LivingBeing\n",
    "hybrid_organism.speak()          # Inherited from Animal\n",
    "hybrid_organism.photosynthesize()  # Inherited from Plant\n",
    "hybrid_organism.hybrid_function()\n"
   ]
  },
  {
   "cell_type": "markdown",
   "id": "2aaf0275",
   "metadata": {},
   "source": [
    "### Polymorphism "
   ]
  },
  {
   "cell_type": "raw",
   "id": "144ebeea",
   "metadata": {},
   "source": [
    "1. Method Overloading:\n",
    "Definition: Method overloading allows a class to define multiple methods with the same name but with different parameters.\n",
    "\n",
    "class MathOperations:\n",
    "    def add(self, a, b):\n",
    "        return a + b\n",
    "    \n",
    "    def add(self, a, b, c):\n",
    "        return a + b + c\n",
    "\n",
    "# Example Usage:\n",
    "math_ops = MathOperations()\n",
    "result1 = math_ops.add(2, 3)       # Raises an error, as the second add method overwrites the first\n",
    "result2 = math_ops.add(2, 3, 5)    # Correct way to use the add method with three parameters\n",
    "\n",
    "Python doesn't support true method overloading, as the second method definition will override the first. However, you can achieve similar behavior by using default parameter values or variable-length argument lists."
   ]
  },
  {
   "cell_type": "code",
   "execution_count": 28,
   "id": "8b74fec1",
   "metadata": {},
   "outputs": [
    {
     "name": "stdout",
     "output_type": "stream",
     "text": [
      "Dog barks\n"
     ]
    }
   ],
   "source": [
    "#method overriding : Method overriding occurs when a subclass provides a specific implementation for a method that is already provided by its superclass.\n",
    "class Animal:\n",
    "    def speak(self):\n",
    "        print(\"Animal speaks\")\n",
    "\n",
    "class Dog(Animal):\n",
    "    def speak(self):\n",
    "        print(\"Dog barks\")\n",
    "\n",
    "# Example Usage:\n",
    "dog = Dog()\n",
    "dog.speak()  # Outputs \"Dog barks\" instead of the generic \"Animal speaks\"\n",
    "\n",
    "\n"
   ]
  },
  {
   "cell_type": "code",
   "execution_count": 34,
   "id": "ae24f069",
   "metadata": {},
   "outputs": [
    {
     "name": "stdout",
     "output_type": "stream",
     "text": [
      "3 + 8j\n"
     ]
    }
   ],
   "source": [
    "#operator overloading\n",
    "class ComplexNumber:\n",
    "    def __init__(self, real, imag):\n",
    "        self.real = real\n",
    "        self.imag = imag\n",
    "    \n",
    "    def __add__(self, other):\n",
    "        real_sum = self.real + other.real\n",
    "        imag_sum = self.imag + other.imag\n",
    "        return ComplexNumber(real_sum, imag_sum)\n",
    "    \n",
    "    \n",
    "    def __str__(self):\n",
    "        return f\"{self.real} + {self.imag}j\"\n",
    "\n",
    "# Example Usage:\n",
    "c1 = ComplexNumber(2, 3)\n",
    "c2 = ComplexNumber(1, 5)\n",
    "result = c1 + c2  # Calls the __add__ method, returns a new ComplexNumber instance\n",
    "print(result)# Outputs \"3 + 8j\""
   ]
  },
  {
   "cell_type": "markdown",
   "id": "a0b684a0",
   "metadata": {},
   "source": [
    "### Abstraction"
   ]
  },
  {
   "cell_type": "raw",
   "id": "da651344",
   "metadata": {},
   "source": [
    " It involves the concept of hiding the complex implementation details and showing only the necessary features of an object.\n",
    " \n",
    "Abstract Classes:\n",
    "\n",
    "An abstract class is a class that cannot be instantiated on its own. It serves as a blueprint for other classes and can contain abstract methods. Abstract classes are created using the ABC (Abstract Base Class) module in Python.\n",
    "\n",
    "Abstract Methods:\n",
    "\n",
    "Abstract methods are methods declared in an abstract class that have no implementation in the abstract class itself. Concrete subclasses must provide implementations for all the abstract methods declared in the abstract class.\n",
    "\n",
    "Abstract Base Classes (ABC):\n",
    "\n",
    "Python's ABC module provides the infrastructure for defining abstract base classes. It allows you to define abstract methods and enforce that concrete subclasses must implement these methods."
   ]
  },
  {
   "cell_type": "code",
   "execution_count": 36,
   "id": "07fd7e81",
   "metadata": {},
   "outputs": [],
   "source": [
    "from abc import ABC, abstractmethod \n",
    "\n",
    "class Shape(ABC):\n",
    "    @abstractmethod\n",
    "    def area(self):\n",
    "        pass\n",
    "    \n",
    "class Circle(Shape):\n",
    "    def __init__(self, radius):\n",
    "        self.radius = radius\n",
    "    \n",
    "    def area(self):\n",
    "        return 3.14 * self.radius**2\n",
    "\n",
    "class Square(Shape):\n",
    "    def __init__(self, side):\n",
    "        self.side = side\n",
    "    \n",
    "    def area(self):\n",
    "        return self.side**2"
   ]
  },
  {
   "cell_type": "markdown",
   "id": "dcdab76e",
   "metadata": {},
   "source": [
    "# Simple Bank Application"
   ]
  },
  {
   "cell_type": "code",
   "execution_count": 38,
   "id": "42e21a1e",
   "metadata": {},
   "outputs": [
    {
     "name": "stdout",
     "output_type": "stream",
     "text": [
      "Deposit Transaction: +$500\n",
      "Withdrawal Transaction: -$200\n",
      "Final Balance for John Doe's Account: $1300\n"
     ]
    }
   ],
   "source": [
    "from abc import ABC, abstractmethod\n",
    "\n",
    "# Abstract class for transactions\n",
    "class Transaction(ABC):\n",
    "    @abstractmethod\n",
    "    def execute(self):\n",
    "        pass\n",
    "\n",
    "# Concrete class for deposit transactions\n",
    "class DepositTransaction(Transaction):\n",
    "    def __init__(self, amount):\n",
    "        self.amount = amount\n",
    "\n",
    "    def execute(self):\n",
    "        print(f\"Deposit Transaction: +${self.amount}\")\n",
    "\n",
    "# Concrete class for withdrawal transactions\n",
    "class WithdrawalTransaction(Transaction):\n",
    "    def __init__(self, amount):\n",
    "        self.amount = amount\n",
    "\n",
    "    def execute(self):\n",
    "        print(f\"Withdrawal Transaction: -${self.amount}\")\n",
    "\n",
    "# Class representing a bank account\n",
    "class Account:\n",
    "    def __init__(self, account_number, balance=0):\n",
    "        self._account_number = account_number\n",
    "        self.__balance = balance\n",
    "\n",
    "    def get_balance(self):\n",
    "        return self.__balance\n",
    "\n",
    "    def deposit(self, amount):\n",
    "        if amount > 0:\n",
    "            self.__balance += amount\n",
    "            return DepositTransaction(amount)\n",
    "\n",
    "    def withdraw(self, amount):\n",
    "        if 0 < amount <= self.__balance:\n",
    "            self.__balance -= amount\n",
    "            return WithdrawalTransaction(amount)\n",
    "        else:\n",
    "            print(\"Insufficient funds for withdrawal\")\n",
    "            return None\n",
    "\n",
    "# Class representing a customer\n",
    "class Customer:\n",
    "    def __init__(self, name):\n",
    "        self.name = name\n",
    "        self.accounts = []\n",
    "\n",
    "    def create_account(self, account_number, initial_balance=0):\n",
    "        new_account = Account(account_number, initial_balance)\n",
    "        self.accounts.append(new_account)\n",
    "        return new_account\n",
    "\n",
    "# Class representing a bank\n",
    "class Bank:\n",
    "    def __init__(self, name):\n",
    "        self.name = name\n",
    "        self.customers = []\n",
    "\n",
    "    def create_customer(self, name):\n",
    "        new_customer = Customer(name)\n",
    "        self.customers.append(new_customer)\n",
    "        return new_customer\n",
    "\n",
    "# Example Usage:\n",
    "# Create a bank\n",
    "my_bank = Bank(name=\"MyBank\")\n",
    "\n",
    "# Create a customer\n",
    "john = my_bank.create_customer(name=\"John Doe\")\n",
    "\n",
    "# Create an account for the customer\n",
    "john_account = john.create_account(account_number=\"12345\", initial_balance=1000)\n",
    "\n",
    "# Perform transactions\n",
    "transaction1 = john_account.deposit(500)\n",
    "if transaction1:\n",
    "    transaction1.execute()\n",
    "\n",
    "transaction2 = john_account.withdraw(200)\n",
    "if transaction2:\n",
    "    transaction2.execute()\n",
    "\n",
    "# Display final balance\n",
    "print(f\"Final Balance for {john.name}'s Account: ${john_account.get_balance()}\")\n"
   ]
  },
  {
   "cell_type": "code",
   "execution_count": null,
   "id": "76d48db4",
   "metadata": {},
   "outputs": [],
   "source": []
  }
 ],
 "metadata": {
  "kernelspec": {
   "display_name": "Python 3 (ipykernel)",
   "language": "python",
   "name": "python3"
  },
  "language_info": {
   "codemirror_mode": {
    "name": "ipython",
    "version": 3
   },
   "file_extension": ".py",
   "mimetype": "text/x-python",
   "name": "python",
   "nbconvert_exporter": "python",
   "pygments_lexer": "ipython3",
   "version": "3.11.3"
  }
 },
 "nbformat": 4,
 "nbformat_minor": 5
}
