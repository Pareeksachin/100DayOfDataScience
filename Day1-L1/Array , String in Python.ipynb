{
 "cells": [
  {
   "cell_type": "markdown",
   "id": "be523e97",
   "metadata": {},
   "source": [
    "# Array"
   ]
  },
  {
   "cell_type": "markdown",
   "id": "4d6a6c5c",
   "metadata": {},
   "source": [
    "Properties of the Array Module: \n",
    "    \n",
    "Homogeneous Data:The array module in Python provides a more memory-efficient representation for arrays that store\n",
    "                  homogeneous data, typically numeric values.\n",
    "        \n"
   ]
  },
  {
   "cell_type": "code",
   "execution_count": 2,
   "id": "ceef54e5",
   "metadata": {},
   "outputs": [
    {
     "name": "stdout",
     "output_type": "stream",
     "text": [
      "array('i', [1, 2, 3, 4, 5])\n"
     ]
    }
   ],
   "source": [
    "# Array Creation\n",
    "#array(typecode, iterable)\n",
    "#The typecode specifies the type of elements in the array.\n",
    "\n",
    "from array import array \n",
    "\n",
    "arr = array('i',[1,2,3,4,5]) # i represents the type of the element\n",
    "\n",
    "print(arr)"
   ]
  },
  {
   "cell_type": "code",
   "execution_count": 9,
   "id": "2a08a683",
   "metadata": {},
   "outputs": [
    {
     "name": "stdout",
     "output_type": "stream",
     "text": [
      "array('u', 'abcd')\n"
     ]
    }
   ],
   "source": [
    "char_arr = array('u',['a','b','c','d'])\n",
    "print(char_arr)"
   ]
  },
  {
   "cell_type": "markdown",
   "id": "c22a1fdb",
   "metadata": {},
   "source": [
    "'b': Signed Char\n",
    "\n",
    "The typecode 'b' represents signed characters, meaning it can store both positive and negative values within the range of a signed 8-bit integer (-128 to 127).\n",
    "'B': Unsigned Char\n",
    "\n",
    "The typecode 'B' represents unsigned characters, meaning it can only store positive values within the range of an unsigned 8-bit integer (0 to 255)."
   ]
  },
  {
   "cell_type": "code",
   "execution_count": 10,
   "id": "cd8ce307",
   "metadata": {},
   "outputs": [
    {
     "name": "stdout",
     "output_type": "stream",
     "text": [
      "array('b', [97, 98, 99, 100])\n"
     ]
    }
   ],
   "source": [
    "from array import array\n",
    "\n",
    "char_arr = array('b', [ord('a'), ord('b'), ord('c'), ord('d')])\n",
    "print(char_arr)\n"
   ]
  },
  {
   "cell_type": "markdown",
   "id": "246373ea",
   "metadata": {},
   "source": [
    "I used ord() to get the ASCII value of each character.\n",
    "The typecode 'b' is used to represent signed characters. If you want to use unsigned characters, you can use 'B' instead."
   ]
  },
  {
   "cell_type": "code",
   "execution_count": 13,
   "id": "48e39851",
   "metadata": {},
   "outputs": [
    {
     "name": "stdout",
     "output_type": "stream",
     "text": [
      "array('i', [1, 2, 3, 4, 5, 6])\n"
     ]
    }
   ],
   "source": [
    "# array Manipulation\n",
    "# append() :\n",
    "numeric_array = array('i',[1,2,3])\n",
    "numeric_array.append(4)\n",
    "#extend() :\n",
    "numeric_array = array('i', [1, 2, 3])\n",
    "numeric_array.extend([4, 5, 6])  # Now, numeric_array is array('i', [1, 2, 3, 4, 5, 6])\n",
    "\n",
    "print(numeric_array)"
   ]
  },
  {
   "cell_type": "code",
   "execution_count": 16,
   "id": "ff57c189",
   "metadata": {},
   "outputs": [
    {
     "name": "stdout",
     "output_type": "stream",
     "text": [
      "3\n",
      "2\n"
     ]
    }
   ],
   "source": [
    "# inbuilt methods \n",
    "\n",
    "# count() :\n",
    "numeric_array = array('i', [1, 2, 3, 2, 4, 2])\n",
    "count_of_2 = numeric_array.count(2)  # count_of_2 is 3\n",
    "print(count_of_2)\n",
    "\n",
    "#index() : Return the index of the first occurrence of a specified element in the array\n",
    "\n",
    "numeric_array = array('i', [1, 2, 3, 4, 5])\n",
    "index_of_3 = numeric_array.index(3)  # index_of_3 is 2\n",
    "\n",
    "print(index_of_3)"
   ]
  },
  {
   "cell_type": "code",
   "execution_count": 17,
   "id": "5aebd3c8",
   "metadata": {},
   "outputs": [
    {
     "name": "stdout",
     "output_type": "stream",
     "text": [
      "array('i', [1, 2, 3, 4, 4, 5, 6])\n"
     ]
    }
   ],
   "source": [
    "# Array Transformation ---> 'fromlist() and 'tolist() \n",
    "numeric_array = array('i',[1,2,3,4])\n",
    "numeric_array.fromlist([4,5,6])\n",
    "print(numeric_array)\n"
   ]
  },
  {
   "cell_type": "code",
   "execution_count": 18,
   "id": "749d341b",
   "metadata": {},
   "outputs": [
    {
     "name": "stdout",
     "output_type": "stream",
     "text": [
      "[1, 2, 3, 4, 4, 5, 6]\n"
     ]
    }
   ],
   "source": [
    "list_representation = numeric_array.tolist()\n",
    "print(list_representation)"
   ]
  },
  {
   "cell_type": "code",
   "execution_count": 19,
   "id": "6d7df244",
   "metadata": {},
   "outputs": [],
   "source": [
    "# array slicing and indexing \n",
    "numeric_array = array('i', [1, 2, 3, 4, 5])\n",
    "subset = numeric_array[1:4]  # Returns array('i', [2, 3, 4])\n"
   ]
  },
  {
   "cell_type": "code",
   "execution_count": 26,
   "id": "36cb91eb",
   "metadata": {},
   "outputs": [],
   "source": [
    "# Application and real world use case\n",
    "\n",
    "#1. Numeric Computing :The array module is used for efficient storage and manipulation of numeric data.\n",
    "from array import array\n",
    "temperature_data = array('f', [98.6, 99.2, 97.8, 100.0])  # 'f' represents float type\n",
    "\n",
    "#2. Memory Efficiency : When dealing with large datasets of numeric values, using the array module can be more memory-efficient compared to standard lists.\n",
    "\n",
    "#3. Data serialization :Arrays are suitable for efficiently serializing and deserializing data, especially when dealing with binary data.\n",
    "\n",
    "import pickle \n",
    "my_array = array('i',[1,2,3,4,5])\n",
    "with open('data.bin','wb') as f:\n",
    "    pickle.dump(my_array,f)\n",
    "\n",
    "#Create an Integer Array:\n",
    "\n",
    "#Create an array (my_array) of signed integers ('i') with values [1, 2, 3, 4, 5].\n",
    "   #Serialize and Save to Binary File:\n",
    "\n",
    "#Open a binary file ('data.bin') in write mode ('wb').\n",
    "#Use pickle.dump() to serialize (convert to binary) and save my_array into the binary file.\n"
   ]
  },
  {
   "cell_type": "markdown",
   "id": "4c06c3f3",
   "metadata": {},
   "source": [
    "Serialization and Deserialization:\n",
    "\n",
    "Serialization:\n",
    "\n",
    "Definition: Serialization is the process of converting an object's state (including its data structures, attributes, and internal state) into a format that can be easily stored or transmitted.\n",
    "\n",
    "Purpose: Serialization allows objects to be represented in a format (often a byte stream or a string) that can be saved to a file, sent over a network, or stored in a database.\n",
    "\n",
    "Example: Converting a Python object into JSON, XML, or binary format\n",
    "\n",
    "\n",
    "Deserialization:\n",
    "\n",
    "Definition: Deserialization is the reverse process, where the serialized data is reconstructed into an object that can be used in the program.\n",
    "\n",
    "Purpose: Deserialization is crucial for restoring the state of an object after it has been transmitted or stored, enabling the recreation of the original data structure.\n",
    "\n",
    "Example: Reading JSON data from a file and converting it back into a Python object.\n",
    "\n",
    "\n",
    "Why Serialization and Deserialization are Needed : \n",
    "\n",
    "1. Data Storage\n",
    "2. Data Transmission\n",
    "3. Interoperability\n",
    "4. State Resoration\n",
    "5. Caching and Memoization\n",
    "6. Message Queues\n"
   ]
  },
  {
   "cell_type": "code",
   "execution_count": 25,
   "id": "f65367d4",
   "metadata": {},
   "outputs": [
    {
     "name": "stdout",
     "output_type": "stream",
     "text": [
      "<memory at 0x00000219F5B5A500>\n"
     ]
    }
   ],
   "source": [
    "# Unique Aspects :\n",
    "memory_view = memoryview(numeric_array)\n",
    "print(memory_view)"
   ]
  },
  {
   "cell_type": "code",
   "execution_count": 22,
   "id": "4ac71b63",
   "metadata": {},
   "outputs": [],
   "source": [
    "# Common Mistakes \n",
    "#1. Appending Non-Iterable:\n",
    "        # Attempting to use append() or extend() with non-iterable data may lead to errors.\n",
    "numeric_array = array('i', [1, 2, 3])\n",
    "#numeric_array.extend(4)  # Raises TypeError\n",
    "\n",
    "#2. Incorrect Typecode : \n",
    "#numeric_array = array('f', [1, 2, 3])  # 'f' represents float type\n"
   ]
  },
  {
   "cell_type": "markdown",
   "id": "33ee52d5",
   "metadata": {},
   "source": [
    "# String"
   ]
  },
  {
   "cell_type": "markdown",
   "id": "8168517d",
   "metadata": {},
   "source": [
    "Properties of Strings: \n",
    "    \n",
    "Immutable: Strings in Python are immutable, meaning once a string is created, you cannot change the characters in it. Any operation that appears to modify a string actually creates a new string.\n",
    "\n",
    "Ordered: Strings are ordered sequences of characters, and each character has a specific position (index) within the string."
   ]
  },
  {
   "cell_type": "code",
   "execution_count": 28,
   "id": "7543d36b",
   "metadata": {},
   "outputs": [],
   "source": [
    "# Inbuilt Functions:\n",
    "# len() : \n",
    "my_string = \"Hello, World!\"\n",
    "length = len(my_string)  # length is 13\n",
    "# str() : convert a non-string data type to a string\n",
    "number = 42\n",
    "string_number = str(number)  # string_number is \"42\"\n",
    "\n",
    "# concatenation : Strings can be concatenated using the + operator.\n",
    "f_name = \"Sachin\"\n",
    "l_name = \"Pareek\"\n",
    "full_name = f_name+\" \"+l_name # full name is \"Sachin Pareek\"\n",
    "\n",
    "#join() : Concatenates ele of an iterable with the list as a seperator\n",
    "words = [\"Sachin\",\"Pareek\"]\n",
    "combined_string = \" \".join(words) # combined \"Sachin Pareek\"\n",
    "\n",
    "#upper() and lower() - converts all char\n",
    "my_string = \"Hello, World!\"\n",
    "upper_case = my_string.upper()  # upper_case is \"HELLO, WORLD!\"\n",
    "lower_case = my_string.lower()  # lower_case is \"hello, world!\"\n",
    "\n",
    "#capitalize() and title() : capitalize the first char of a string or each word in a string\n",
    "my_string = \"hello, world!\"\n",
    "capitalized = my_string.capitalize()  # capitalized is \"Hello, world!\"\n",
    "title_case = my_string.title()  # title_case is \"Hello, World!\"\n",
    "\n",
    "#replace() : Replaces occurrences of a substring with another string.\n",
    "my_string = \"Hello, World!\"\n",
    "new_string = my_string.replace(\"World\", \"Universe\")  # new_string is \"Hello, Universe!\"\n",
    "\n",
    "#startswith() and endswith() : check if a string starts or ends with a specified substring\n",
    "my_string = \"Hello, World!\"\n",
    "starts_with_hello = my_string.startswith(\"Hello\")  # True\n",
    "ends_with_world = my_string.endswith(\"World\")  # True\n",
    "\n",
    "#count() : Counts the occurrences of a substring in the string\n",
    "\n",
    "my_string = \"Hello, World! Hello, Warren Buffet!\"\n",
    "hello_count = my_string.count(\"Hello\")  # hello_count is 2\n",
    "\n",
    "#find() and index() : find the index of the first occurrence of a substring. find() returns -1 if the substring is not found\n",
    "  #while index() raises a 'ValueError'\n",
    "    \n",
    "my_string = \"Hello, World!\"\n",
    "index_of_world = my_string.find(\"World\")  # index_of_world is 7\n",
    "index_of_universe = my_string.find(\"Warren\")  # index_of_universe is -1\n",
    "\n",
    "\n",
    "#split() : split a string into a list of substrings based on a specified delimiter\n",
    "my_string = \"Hello, World!\"\n",
    "word_list = my_string.split(\", \")  # word_list is ['Hello', 'World!']\n",
    "\n"
   ]
  },
  {
   "cell_type": "code",
   "execution_count": null,
   "id": "c65e10de",
   "metadata": {},
   "outputs": [],
   "source": [
    "#f-strings (Formatted String Literals)\n",
    "name = \"Michael Burry\"\n",
    "age = 52\n",
    "formatted_string = f\"My name is {name} and I am {age} years old.\"\n",
    "# output :My name is Michael Burry and I am 52 years old."
   ]
  },
  {
   "cell_type": "code",
   "execution_count": 31,
   "id": "dc110e46",
   "metadata": {},
   "outputs": [],
   "source": [
    "#unicode support :\n",
    "unicode_string = \"你好，世界！\"  # Chinese: Hello, World!\n"
   ]
  },
  {
   "cell_type": "code",
   "execution_count": 30,
   "id": "d0f4ea34",
   "metadata": {},
   "outputs": [
    {
     "name": "stdout",
     "output_type": "stream",
     "text": [
      "<re.Match object; span=(22, 33), match='123-45-6789'>\n"
     ]
    }
   ],
   "source": [
    "# Application and Real_world Use cases\n",
    "#1. Text Processing : Strings are extensively used for text processing, including parsing, searching, and manipulating textual data.\n",
    "#2. File Handling \n",
    "#3. User input processing\n",
    "#4. Regular Expression : \n",
    "import re\n",
    "pattern = re.compile(r'\\b\\d{3}-\\d{2}-\\d{4}\\b')  # Pattern for matching Social Security Numbers\n",
    "text_data = \"Harry_potter's SSN is 123-45-6789.\"\n",
    "match = pattern.search(text_data)\n",
    "print(match)"
   ]
  },
  {
   "cell_type": "raw",
   "id": "4a62d54a",
   "metadata": {},
   "source": [
    "# Common mistakes :\n",
    "\n",
    "#1. Strings are mutabel :\n",
    "\n",
    "my_string = \"Hello\"\n",
    "my_string[0] = \"J\"  # Raises TypeError\n",
    "\n",
    "#2. Ignoring Unicode Encoding :\n",
    "my_string = \"你好，世界！\"\n",
    "bytes_representation = my_string.encode('utf-8')\n",
    "\n"
   ]
  },
  {
   "cell_type": "markdown",
   "id": "1d1f42e9",
   "metadata": {},
   "source": [
    "# #Coding Question of String :"
   ]
  },
  {
   "cell_type": "markdown",
   "id": "2aed3659",
   "metadata": {},
   "source": [
    "# Check two strigs are anagram or not "
   ]
  },
  {
   "cell_type": "code",
   "execution_count": 33,
   "id": "841cd084",
   "metadata": {},
   "outputs": [
    {
     "name": "stdout",
     "output_type": "stream",
     "text": [
      "first string : Sachin\n",
      "Second Stringpareek\n",
      "strings are not anagram\n"
     ]
    }
   ],
   "source": [
    "\n",
    "# 1st method - sort the string and compare\n",
    "str1 = input(\"first string : \")\n",
    "str2 = input(\"Second String\")\n",
    "\n",
    "if len(str1)==len(str2):\n",
    "    if sorted(str1)==sorted(str2):\n",
    "        print(\"strings are anagram\")\n",
    "    else:\n",
    "        print(\"strings are not anagram\")\n",
    "else:\n",
    "    print(\"strings are not anagram\")"
   ]
  },
  {
   "cell_type": "code",
   "execution_count": 34,
   "id": "5d608736",
   "metadata": {},
   "outputs": [
    {
     "name": "stdout",
     "output_type": "stream",
     "text": [
      "first string : caree\n",
      "Second String : caeer\n",
      "anagram\n"
     ]
    }
   ],
   "source": [
    "# 2nd method\n",
    "str1 = input(\"first string : \")\n",
    "str2 = input(\"Second String : \")\n",
    "isvisited = False\n",
    "if len(str1)==len(str2):\n",
    "    for ch in str1:\n",
    "        if ch in str2:\n",
    "            isvisited = True\n",
    "        else:\n",
    "            isvisited = False\n",
    "            break\n",
    "\n",
    "if isvisited:\n",
    "    print(\"anagram\")\n",
    "else:\n",
    "    print(\"not a anagram\")\n",
    "## you will found a bug in this program \n",
    "## cases are below defined "
   ]
  },
  {
   "cell_type": "code",
   "execution_count": 35,
   "id": "a0bae503",
   "metadata": {},
   "outputs": [
    {
     "name": "stdout",
     "output_type": "stream",
     "text": [
      "first string : caree\n",
      "Second String : racce\n",
      "{'c': 1}\n",
      "{'c': 1, 'a': 1}\n",
      "{'c': 1, 'a': 1, 'r': 1}\n",
      "{'c': 1, 'a': 1, 'r': 1, 'e': 1}\n",
      "{'c': 1, 'a': 1, 'r': 1, 'e': 2}\n",
      "{'r': 1}\n",
      "{'r': 1, 'a': 1}\n",
      "{'r': 1, 'a': 1, 'c': 1}\n",
      "{'r': 1, 'a': 1, 'c': 2}\n",
      "{'r': 1, 'a': 1, 'c': 2, 'e': 1}\n",
      "not anagram\n"
     ]
    }
   ],
   "source": [
    "## 3rd method: by checking the frequencies of the char and comparing \n",
    "str1 = input(\"first string : \")\n",
    "str2 = input(\"Second String : \")\n",
    "\n",
    "if len(str1) == len(str2):\n",
    "    ch_count1 = {}\n",
    "    ch_count2 = {}\n",
    "    \n",
    "    for ch in str1:\n",
    "        ch_count1[ch] = ch_count1.get(ch,0)+1\n",
    "        print(ch_count1)\n",
    "    \n",
    "    for ch in str2:\n",
    "        ch_count2[ch] = ch_count2.get(ch,0)+1\n",
    "        print(ch_count2)\n",
    "\n",
    "if ch_count1==ch_count2:\n",
    "    print(\"anagram\")\n",
    "else:\n",
    "    print(\"not anagram\")"
   ]
  },
  {
   "cell_type": "markdown",
   "id": "7d639552",
   "metadata": {},
   "source": [
    "# Program to count the number of digits in a number"
   ]
  },
  {
   "cell_type": "code",
   "execution_count": 36,
   "id": "dc007735",
   "metadata": {},
   "outputs": [
    {
     "name": "stdout",
     "output_type": "stream",
     "text": [
      "243242\n",
      "6\n"
     ]
    }
   ],
   "source": [
    "#1st method\n",
    "n = int(input())\n",
    "count = 0\n",
    "print(len(str(n)))"
   ]
  },
  {
   "cell_type": "code",
   "execution_count": 37,
   "id": "e63e1ef7",
   "metadata": {},
   "outputs": [
    {
     "name": "stdout",
     "output_type": "stream",
     "text": [
      "981738941\n",
      "9\n"
     ]
    }
   ],
   "source": [
    "n = int(input())\n",
    "count = 0\n",
    "while n>0:\n",
    "    n = n//10\n",
    "    count = count+1\n",
    "    \n",
    "print(count)"
   ]
  },
  {
   "cell_type": "code",
   "execution_count": 38,
   "id": "a5e276e6",
   "metadata": {},
   "outputs": [
    {
     "name": "stdout",
     "output_type": "stream",
     "text": [
      "Enter a number87942\n",
      "17\n"
     ]
    }
   ],
   "source": [
    "#method 3 : count binary digits in a number \n",
    "n = int(input(\"Enter a number\"))\n",
    "print(int(abs(n)).bit_length())"
   ]
  },
  {
   "cell_type": "markdown",
   "id": "63e6aa59",
   "metadata": {},
   "source": [
    "# sum of all digits in a number"
   ]
  },
  {
   "cell_type": "code",
   "execution_count": 39,
   "id": "ae36cb84",
   "metadata": {},
   "outputs": [
    {
     "name": "stdout",
     "output_type": "stream",
     "text": [
      "Enter a number : 9871\n",
      "25\n"
     ]
    }
   ],
   "source": [
    "n = int(input(\"Enter a number : \"))\n",
    "sum_of_digit = 0\n",
    "while n > 0:\n",
    "    last_digit = n%10\n",
    "    sum_of_digit = sum_of_digit + last_digit\n",
    "    n = n//10\n",
    "print(sum_of_digit)"
   ]
  },
  {
   "cell_type": "markdown",
   "id": "eea147d5",
   "metadata": {},
   "source": [
    "# Python Program to Print all Prime Numbers in an Interval\n"
   ]
  },
  {
   "cell_type": "code",
   "execution_count": 40,
   "id": "0e707a87",
   "metadata": {},
   "outputs": [
    {
     "name": "stdout",
     "output_type": "stream",
     "text": [
      "Enter first number100\n",
      "Enter second number200\n",
      "[101, 103, 107, 109, 113, 127, 131, 137, 139, 149, 151, 157, 163, 167, 173, 179, 181, 191, 193, 197, 199]\n"
     ]
    }
   ],
   "source": [
    "start = int(input(\"Enter first number\"))\n",
    "end = int(input(\"Enter second number\"))\n",
    "lst = []\n",
    "if start < end:\n",
    "    for num in range(start,end+1):\n",
    "        if num>1:\n",
    "            for i in range(2,num):\n",
    "                if (num%i)==0:\n",
    "                    break\n",
    "            else:\n",
    "                lst.append(num)\n",
    "            \n",
    "print(lst)          "
   ]
  },
  {
   "cell_type": "code",
   "execution_count": null,
   "id": "113c40e8",
   "metadata": {},
   "outputs": [],
   "source": []
  }
 ],
 "metadata": {
  "kernelspec": {
   "display_name": "Python 3 (ipykernel)",
   "language": "python",
   "name": "python3"
  },
  "language_info": {
   "codemirror_mode": {
    "name": "ipython",
    "version": 3
   },
   "file_extension": ".py",
   "mimetype": "text/x-python",
   "name": "python",
   "nbconvert_exporter": "python",
   "pygments_lexer": "ipython3",
   "version": "3.11.3"
  }
 },
 "nbformat": 4,
 "nbformat_minor": 5
}
