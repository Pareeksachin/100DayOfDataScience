{
 "cells": [
  {
   "cell_type": "code",
   "execution_count": 14,
   "id": "ba1c189a",
   "metadata": {
    "scrolled": true
   },
   "outputs": [
    {
     "name": "stdout",
     "output_type": "stream",
     "text": [
      "Mean : 48.875\n",
      "Median : 34.0\n",
      "Mode: 89 (occurs 2 times)\n",
      "Variance :  1251.359375\n",
      "Standard Deviation :  35.37455830112936\n"
     ]
    }
   ],
   "source": [
    "import numpy as np\n",
    "from scipy.stats import mode\n",
    "\n",
    "data = np.array([10,15,20,23,45,89,89,100])\n",
    "\n",
    "#mean \n",
    "mean = np.mean(data)\n",
    "print(\"Mean :\",mean)\n",
    "\n",
    "#median\n",
    "median = np.median(data)\n",
    "print(\"Median :\",median)\n",
    "\n",
    "#mode\n",
    "mode_result = mode(data)\n",
    "#mode function returns an object containing the mode(s) and their respective counts.\n",
    "mode_value=mode_result[0] # since there can be multiple valuesin dataset so it will return an array of mode values \n",
    "mode_count = mode_result[1]  # Access count directly from the result\n",
    "print(\"Mode:\",mode_value,\"(occurs\",mode_count,\"times)\")\n",
    "#variance \n",
    "variance = np.var(data)\n",
    "\n",
    "print(\"Variance : \",variance)\n",
    "\n",
    "#standard deviation\n",
    "std_dev = np.std(data)\n",
    "print(\"Standard Deviation : \",std_dev)\n"
   ]
  },
  {
   "cell_type": "code",
   "execution_count": 13,
   "id": "1ba18bd4",
   "metadata": {},
   "outputs": [
    {
     "name": "stdout",
     "output_type": "stream",
     "text": [
      "Covariance :  250.0\n",
      "Correlation :  1.0\n"
     ]
    }
   ],
   "source": [
    "# Sample data for Covariance and correlation\n",
    "\n",
    "data1 = np.array([10,20,30,40,50])\n",
    "data2 = np.array([5,15,25,35,45])\n",
    "\n",
    "#covariance \n",
    "\n",
    "covariance = np.cov(data1,data2)[0,1]\n",
    "print(\"Covariance : \",covariance)\n",
    "\n",
    "#Correlation \n",
    "\n",
    "correlation = np.corrcoef(data1,data2)[0,1]\n",
    "print(\"Correlation : \",correlation)"
   ]
  },
  {
   "cell_type": "code",
   "execution_count": null,
   "id": "0951c653",
   "metadata": {},
   "outputs": [],
   "source": []
  }
 ],
 "metadata": {
  "kernelspec": {
   "display_name": "Python 3 (ipykernel)",
   "language": "python",
   "name": "python3"
  },
  "language_info": {
   "codemirror_mode": {
    "name": "ipython",
    "version": 3
   },
   "file_extension": ".py",
   "mimetype": "text/x-python",
   "name": "python",
   "nbconvert_exporter": "python",
   "pygments_lexer": "ipython3",
   "version": "3.11.3"
  }
 },
 "nbformat": 4,
 "nbformat_minor": 5
}
